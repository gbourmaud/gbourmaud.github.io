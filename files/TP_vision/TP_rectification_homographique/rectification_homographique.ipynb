{
 "cells": [
  {
   "cell_type": "markdown",
   "id": "0f365734",
   "metadata": {},
   "source": [
    "# TP rectification homographique"
   ]
  },
  {
   "cell_type": "markdown",
   "id": "8caf8367",
   "metadata": {},
   "source": [
    "**Guillaume Bourmaud - guillaume.bourmaud@enseirb-matmeca.fr**"
   ]
  },
  {
   "cell_type": "markdown",
   "id": "58d62fa4",
   "metadata": {},
   "source": [
    "L'objectif de ce TP est de mettre en oeuvre la notion d'homographie étudiée en cours.\n",
    "\n",
    "Pour cela, nous allons considérer l'image suivante ([lien de téléchargement](https://gbourmaud.github.io/files/image1.jpg)) :  \n",
    "  \n",
    "![alt text](image1.jpg)\n",
    "Cette image correspond à la projection d'une scène planaire (dans notre cas une feuille A4 posée sur le sol) dans le plan image d'une caméra idéale du point de vue du modèle sténopé. Dans cette image, le texte présent sur la feuille A4 est difficilement lisible en raison de la rotation et de la translation de la caméra vis-à-vis de la feuille lors de la prise de vue.  \n",
    "  \n",
    "Nous avons vu que la transformation entre une scène planaire et le plan image est une homographie. Ainsi, le présent TP consiste à mettre en oeuvre une méthode de rectification homographique permettant d'estimer cette homographie pour l'appliquer à notre image et ainsi obtenir une image rectifiée (que l'on peut interpréter comme une **reconstruction de la scène planaire**) où le texte présent sur la feuille A4 est lisible. \n",
    "  \n",
    "Après rectification homographique, l'image rectifiée doit représenter la feuille A4 de telle sorte que cette dernière soit parfaitement lisible :  \n",
    "  \n",
    "![image rectifiée](image1_rect.jpg)"
   ]
  },
  {
   "cell_type": "markdown",
   "id": "e8a32110",
   "metadata": {},
   "source": [
    "## Travail sur feuille\n",
    "\n",
    "1. Faire un schéma **en 3D**, en reprenant les notations du cours, où doivent figurer le référentiel de la caméra $(O_c,x_c,y_c,z_c)$, le plan focal normalisé de la caméra et son référentiel $(O_f,x_f,y_f)$, le plan P et son référentiel $(O_p,x_p,y_p,z_p)$. Dessiner la feuille A4 dans le plan P (**en plaçant l'origine $O_p$ sur le coin en haut à gauche de la feuille, en alignant l'axe $x_p$ sur le bord haut de la feuille et l'axe $y_p$ sur le bord gauche de la feuille**) et sa reprojection dans le plan focal normalisé. Dans le plan focal normalisé, faire apparaître les 4 coins de la feuille A4 : $\\{ \\underline{m}_{c,i} \\}_{i=1...4}$.\n",
    "2. Faire deux schémas **en 2D**, en reprenant les notations du cours.  \n",
    "    A. Le premier schéma correspond au plan image de la caméra : représenter la feuille A4 et faire apparaître ses 4 coins $\\{ p_{c,i} \\}_{i=1...4}$.  \n",
    "    B. Le second schéma correspond au plan P : représenter la feuille A4 et faire apparaître ses 4 coins $\\{ r_{p,i} \\}_{i=1...4}$. Une feuille A4 étant de taille 21cm par 29,7cm, quelles sont les coordonnées des 4 coins $\\{ r_{p,i} \\}_{i=1...4}$ ?  \n",
    "    C. Relier les 4 coins de la feuille A4 dans le plan P aux 4 coins de la feuille A4 dans le plan image afin d'obtenir 4 correspondances  $\\{( p_{c,i}, r_{p,i} )\\}_{i=1...4}$."
   ]
  },
  {
   "cell_type": "markdown",
   "id": "2299399a",
   "metadata": {},
   "source": [
    "## Créer un script MATLAB `define_corners.m`\n",
    "\n",
    "Pour obtenir les coordonnées des 4 coins $\\{ p_{c,i} \\}_{i=1...4}$, nous allons simplement utiliser une interface graphique (en MATLAB) permettant de cliquer sur ces 4 coins.\n",
    "1. Charger l'image à rectifier (fonction `imread`)\n",
    "2. Afficher l'image à rectifier (fonction `imshow`)\n",
    "3. Cliquer sur les 4 coins de la feuille A4 (fonction `ginput`) pour obtenir $\\{ p_{c,i} \\}_{i=1...4}$.\n",
    "4. Sauvegarder $\\{ p_{c,i}\\}_{i=1...4}$ dans un fichier `coins.mat` (fonction `save`)"
   ]
  },
  {
   "cell_type": "markdown",
   "id": "c3cc862e",
   "metadata": {},
   "source": [
    "## Créer un script MATLAB `rectification_homographique.m`\n",
    "\n",
    "1. Définir les 4 coins dans le plan P : $\\{ r_{p,i} \\}_{i=1...4}$. Pour cela, vous pouvez considérer dans un premier temps que l'image rectifiée sera de taille $297\\times210$.\n",
    "2. Charger les 4 coins (fonction `load`) de la feuille A4 dans le plan P : $\\{ p_{c,i} \\}_{i=1...4}$.\n",
    "3. Dans une figure : afficher à gauche (fonction `subplot`) l'image à rectifier et les 4 coins $\\{p_{c,i}\\}_{i=1...4}$ (afficher chaque coin avec un cercle d'une couleur différente); afficher à droite, les 4 coins $\\{r_{p,i}\\}_{i=1...4}$ avec les mêmes couleurs que celles utilisées pour l'affichage de gauche. La commande `axis ij` permet de faire pointer l'axe $y$ vers le bas. Vérifier visuellement que les correspondances sont correctement définies.\n",
    "4. Coder la méthode d'estimation d'homographie vue en cours.  \n",
    "    A.  Construire la matrice $A$ de taille $8\\times8$  et le vecteur $p_c$ de taille $8\\times1$  \n",
    "    B.  Résoudre numériquement (fonction `mldivide`) le système linéaire $Ah=p_c$   \n",
    "    C.  Construire la matrice d'homographie $H_{cp}$ de taille $3\\times3$ à partir du vecteur $h$  \n",
    "    D.  Vérifier que $\\underline{p}_{c,i} = \\pi(H_{cp}\\underline{r}_{p,i})$ $\\forall i\\in [1...4]$ en traçant une croix pour chaque $\\pi(H_{cp}\\underline{r}_{p,i})$ dans le `subplot` de gauche.\n",
    "5. Appliquer l'homographie estimée $H_{cp}$ à l'image à rectifier (application d'une transformation à une image).\n",
    "6. Sauvegarder l'image rectifiée au format pdf. Le document obtenu devrait être parfaitement lisible."
   ]
  },
  {
   "cell_type": "code",
   "execution_count": null,
   "id": "7f5305c5",
   "metadata": {},
   "outputs": [],
   "source": []
  }
 ],
 "metadata": {
  "kernelspec": {
   "display_name": "Python 3 (ipykernel)",
   "language": "python",
   "name": "python3"
  },
  "language_info": {
   "codemirror_mode": {
    "name": "ipython",
    "version": 3
   },
   "file_extension": ".py",
   "mimetype": "text/x-python",
   "name": "python",
   "nbconvert_exporter": "python",
   "pygments_lexer": "ipython3",
   "version": "3.10.11"
  }
 },
 "nbformat": 4,
 "nbformat_minor": 5
}
