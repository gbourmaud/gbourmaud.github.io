{
 "cells": [
  {
   "cell_type": "markdown",
   "id": "0be416b3",
   "metadata": {},
   "source": [
    "# 🧪 TP : Spécialisation (\"Fine-tuning\") d'un ResNet18\n",
    "Dans ce TP, vous allez spécialiser un ResNet pré-entraîné sur ImageNet pour classifier des images de plantes.\n",
    "\n",
    "Pour ce faire, vous allez utiliser :\n",
    "- un GPU de [Google Colab](https://colab.research.google.com/) (vous aurez donc besoin d'un compte Google),\n",
    "- la base d'images de plantes [PlantNet](https://meta-album.github.io/datasets/PLT_NET.html).\n",
    "\n",
    "**Objectif du TP :**\n",
    "- Apprendre à spécialiser un ResNet18\n",
    "- Entraîner 3 modèles : un ResNet spécialisé, un ResNet spécialisé mais où uniquement la dernière couche est optimisée, un ResNet entraîné \"from scratch\"\n",
    "- Comparer les performances des 3 réseaux précédents\n",
    "\n",
    "**REMARQUE : En cumulé, les 3 entraînements (en faisant 5 epochs pour chaque entraînement) durent environ 1h30.** "
   ]
  },
  {
   "cell_type": "markdown",
   "id": "243abdd4",
   "metadata": {},
   "source": [
    "## 📁 ÉTAPE 1 : Mise en place de PlantNet dans Google Colab"
   ]
  },
  {
   "cell_type": "markdown",
   "id": "34726728",
   "metadata": {},
   "source": [
    "La base PlantNet a été prédécoupée en 3 morceaux train/validation/test. Les liens sont disponibles ci-après :\n",
    "- [train](https://drive.google.com/file/d/1-N9C1YBeb71BfgX0JuRRyVGnIes2AsNC/view?usp=sharing)\n",
    "- [test](https://drive.google.com/file/d/1jgfMjSFE6A_phBOiZZVtyDaliKDscG-G/view?usp=sharing)\n",
    "- [val](https://drive.google.com/file/d/1qYyikdncPTQ_gLkyOTsA_k01o6taoDhT/view?usp=sharing)\n",
    "\n",
    "**Il n'est pas nécessaire de télécharger les 3 fichiers zip, cliquez simplement sur \"Ajouter un raccourci dans Drive\". De cette manière, les 3 fichiers seront disponibles dans votre Drive et directement utilisables dans Google Colab.**\n",
    "\n",
    "Dans Google Colab :\n",
    "- ouvrez un nouveau notebook,\n",
    "- dans le menu en haut à droite, aller sur \"Change runtime type\" et sélectionner T4 GPU."
   ]
  },
  {
   "cell_type": "code",
   "execution_count": null,
   "id": "c85f71b4",
   "metadata": {},
   "outputs": [],
   "source": [
    "# Mount Google Drive to access dataset\n",
    "from google.colab import drive\n",
    "drive.mount('/content/drive')"
   ]
  },
  {
   "cell_type": "code",
   "execution_count": null,
   "id": "9810938f",
   "metadata": {},
   "outputs": [],
   "source": [
    "# Unzip training and validation data into /tmp\n",
    "!unzip -q \"/content/drive/MyDrive/train.zip\" -d \"/tmp\"\n",
    "!unzip -q \"/content/drive/MyDrive/val.zip\" -d \"/tmp\""
   ]
  },
  {
   "cell_type": "markdown",
   "id": "58930d54",
   "metadata": {},
   "source": [
    "À ce stade, la base PlantNet est prête à être utilisée."
   ]
  },
  {
   "cell_type": "markdown",
   "id": "998f91ad",
   "metadata": {},
   "source": [
    "## ⚙️ ÉTAPE 2 : Code utile pour la spécialisation d'un ResNet"
   ]
  },
  {
   "cell_type": "markdown",
   "id": "daf7c599",
   "metadata": {},
   "source": [
    "Vous trouverez ci-après plusieurs morceaux de code facilitant la spécialisation d'un ResNet."
   ]
  },
  {
   "cell_type": "markdown",
   "id": "df66d63d",
   "metadata": {},
   "source": [
    "### Définition du `dataset` PyTorch\n",
    "Un dataset PyTorch peut être créé en utilisant la classe `ImageFolder`. De plus, la normalisation des images en utilisant les statistiques d'ImageNet peut s'effectuer en utilisant la classe `transforms`. "
   ]
  },
  {
   "cell_type": "code",
   "execution_count": null,
   "id": "b6f5230d",
   "metadata": {},
   "outputs": [],
   "source": [
    "import torchvision\n",
    "import torchvision.transforms as transforms\n",
    "\n",
    "# Image transforms for ResNet\n",
    "transform = transforms.Compose([\n",
    "    transforms.Resize((224, 224)),\n",
    "    transforms.ToTensor(),\n",
    "    transforms.Normalize(mean=[0.485, 0.456, 0.406], std=[0.229, 0.224, 0.225])\n",
    "])\n",
    "# Load dataset using ImageFolder\n",
    "train_dataset = torchvision.datasets.ImageFolder(root=train_data_dir, transform=transform)\n",
    "val_dataset = torchvision.datasets.ImageFolder(root=val_data_dir, transform=transform)"
   ]
  },
  {
   "cell_type": "markdown",
   "id": "237c2096",
   "metadata": {},
   "source": [
    "### Définition du `device`"
   ]
  },
  {
   "cell_type": "code",
   "execution_count": null,
   "id": "0a9c8a75",
   "metadata": {},
   "outputs": [],
   "source": [
    "import torch\n",
    "#define GPU as device\n",
    "device = torch.device(\"cuda\" if torch.cuda.is_available() else \"cpu\")\n",
    "print(device)"
   ]
  },
  {
   "cell_type": "markdown",
   "id": "6622b435",
   "metadata": {},
   "source": [
    "### Démarrer TensorBoard dans Google Colab"
   ]
  },
  {
   "cell_type": "code",
   "execution_count": null,
   "id": "f68478fe",
   "metadata": {},
   "outputs": [],
   "source": [
    "#START TENSORBOARD\n",
    "\n",
    "%load_ext tensorboard\n",
    "%tensorboard --logdir=runs"
   ]
  },
  {
   "cell_type": "markdown",
   "id": "a11861de",
   "metadata": {},
   "source": [
    "### Fonction permettant de récupérer un ResNet18"
   ]
  },
  {
   "cell_type": "code",
   "execution_count": null,
   "id": "0ae01e60",
   "metadata": {},
   "outputs": [],
   "source": [
    "from torchvision.models import resnet18\n",
    "def get_model(pretrained=True, freeze_backbone=False):\n",
    "    model = resnet18(pretrained=pretrained)\n",
    "    if freeze_backbone:\n",
    "        for param in model.parameters():\n",
    "            param.requires_grad = False\n",
    "    model.fc = nn.Linear(model.fc.in_features, NUM_CLASSES)\n",
    "    if freeze_backbone:\n",
    "        for param in model.fc.parameters():\n",
    "            param.requires_grad = True\n",
    "    return model.to(device)"
   ]
  },
  {
   "cell_type": "markdown",
   "id": "b00991b3",
   "metadata": {},
   "source": [
    "---\n",
    "## ✅ Travail\n",
    "- [ ] Afficher les images et les étiquettes de quelques éléments d'un minibatch\n",
    "- [ ] Régler la taille d'un minibatch et du nombre de \"workers\" pour optimiser le temps de calcul\n",
    "- [ ] Lancer 3 entraînements (\"from scratch\", \"pre-trained frozen\", \"pretrained\")\n",
    "- [ ] Afficher l'évolution du taux de bonne classification pour chacun des trois apprentissages. Superposer les 3 courbes. Que constatez-vous ? "
   ]
  }
 ],
 "metadata": {
  "language_info": {
   "name": "python"
  }
 },
 "nbformat": 4,
 "nbformat_minor": 5
}
