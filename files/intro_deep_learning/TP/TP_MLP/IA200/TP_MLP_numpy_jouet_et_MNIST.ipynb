{
 "cells": [
  {
   "cell_type": "markdown",
   "metadata": {
    "tags": [
     "pdf-title"
    ]
   },
   "source": [
    "# TP : Implémentation d'un réseau de neurones de type Perceptron multicouche pour un problème de classification\n",
    "Dans ce TP, vous allez implémenter en Numpy un réseau de neurones de type Perceptron multicouche.\n"
   ]
  },
  {
   "cell_type": "markdown",
   "metadata": {},
   "source": [
    "## Configuration\n",
    "### Si vous utilisez un ordinateur de l'Enseirb:\n",
    "#### 1) Lancer une session linux (et non pas windows)\n",
    "#### 2) Aller dans \"Applications\", puis \"Autre\", puis \"conda_pytorch\" (un terminal devrait s'ouvrir)\n",
    "#### 3) Dans ce terminal, taper la commande suivante pour lancer Spyder :  \n",
    "`spyder &`  \n",
    "### Si vous utilisez votre ordinateur personnel, il faudra installer Spyder.  \n",
    "\n",
    "---\n",
    "---\n",
    "## Dans tous les cas, ne pas oublier de configurer Spyder en suivant ces [instructions](https://gbourmaud.github.io/files/configuration_spyder_annotated.pdf).\n",
    "---\n",
    "---"
   ]
  },
  {
   "cell_type": "markdown",
   "metadata": {},
   "source": [
    "# PARTIE 1 : Exemple \"jouet\""
   ]
  },
  {
   "cell_type": "markdown",
   "metadata": {},
   "source": [
    "### Télécharger le fichier [utils.py](https://gbourmaud.github.io/files/intro_deep_learning/TP/TP_MLP/utils.py) contenant des fonctions qui seront utilisées par la suite."
   ]
  },
  {
   "cell_type": "markdown",
   "metadata": {},
   "source": [
    "### Créer un nouveau script python et copiez/collez le code suivant :"
   ]
  },
  {
   "cell_type": "code",
   "execution_count": 1,
   "metadata": {
    "tags": [
     "pdf-ignore"
    ]
   },
   "outputs": [],
   "source": [
    "import matplotlib.pyplot as plt\n",
    "import numpy as np\n",
    "import sys\n",
    "import utils\n",
    "\n",
    "np.random.seed(0)"
   ]
  },
  {
   "cell_type": "markdown",
   "metadata": {
    "tags": [
     "pdf-ignore"
    ]
   },
   "source": [
    "### Définition d'un exemple jouet à 3 classes en 2D :"
   ]
  },
  {
   "cell_type": "code",
   "execution_count": 2,
   "metadata": {
    "tags": [
     "pdf-ignore"
    ]
   },
   "outputs": [
    {
     "data": {
      "image/png": "[encoded data removed]",
      "text/plain": [
       "<Figure size 640x480 with 2 Axes>"
      ]
     },
     "metadata": {},
     "output_type": "display_data"
    }
   ],
   "source": [
    "#%% DEFINE AND PLOT DATA\n",
    "    \n",
    "style_per_class = ['xb', 'or', 'sg']\n",
    "X = np.array([[1.2, 2.3, -0.7, 3.2, -1.3],[-3.4, 2.8, 1.2, -0.4, -2.3]]).T\n",
    "X -= X.mean() #centering data (globally)\n",
    "X /= X.std() #reduce data (globally)\n",
    "y = np.array([0,0,1,1,2])\n",
    "\n",
    "C = len(style_per_class)\n",
    "N = X.shape[0]\n",
    "xx, yy = utils.make_meshgrid(X[:,0], X[:,1], h=0.05)\n",
    "\n",
    "\n",
    "fig1, axs1 = plt.subplots(ncols=2)\n",
    "axs1[0].set_xlim(xx.min(), xx.max())\n",
    "axs1[0].set_ylim(yy.min(), yy.max())\n",
    "axs1[0].grid(True)\n",
    "\n",
    "for i in range(C):\n",
    "    x_c = X[y==i,:]\n",
    "    axs1[0].plot(x_c[:,0],x_c[:,1],style_per_class[i],markersize=7, markeredgewidth=3.)\n",
    "\n",
    "plt.pause(0.1)"
   ]
  },
  {
   "cell_type": "markdown",
   "metadata": {},
   "source": [
    "## Implémentation des fonctions $\\text{FC}$, $\\widetilde{\\text{FC}}$, $\\text{ReLU}$ et $\\widetilde{\\text{ReLU}}$"
   ]
  },
  {
   "cell_type": "code",
   "execution_count": 20,
   "metadata": {},
   "outputs": [],
   "source": [
    "def FC_forward(X,W,b):\n",
    "    Z = X.dot(W) + b #NxH\n",
    "    return Z\n",
    "\n",
    "def FC_backward(dc_dZ, X, W, b):\n",
    "    dc_dX = 0 #TODO compute dc_dX (one line)\n",
    "    dc_dW = 0 #TODO compute dc_dW (one line)\n",
    "    dc_db = 0 #TODO compute dc_db (one line)\n",
    "    return dc_dX, dc_dW, dc_db\n",
    "\n",
    "def relu_forward(X):\n",
    "    Z = np.maximum(0.,X) \n",
    "    return Z\n",
    "\n",
    "def relu_backward(dc_dZ, X):\n",
    "    dc_dX = 0 #TODO compute dc_dX (two lines)\n",
    "    return dc_dX\n",
    "    "
   ]
  },
  {
   "cell_type": "markdown",
   "metadata": {},
   "source": [
    "**Travail : implémenter les fonctions `FC_backward` et  `relu_backward` en utilisant les équations obtenues en TP. Le code ci-après permet de tester vos implémentations.**"
   ]
  },
  {
   "cell_type": "code",
   "execution_count": null,
   "metadata": {},
   "outputs": [],
   "source": [
    "def test_FC_backward():\n",
    "    \n",
    "    eta = 1e-5\n",
    "    N = 100\n",
    "    D = 10\n",
    "    H = 20\n",
    "    X = np.random.normal(size=(N,D))\n",
    "    dX = np.random.normal(size=(N,D))\n",
    "    W = np.random.normal(size=(D,H))\n",
    "    b = np.random.normal(size=(H))\n",
    "    dW = np.random.normal(size=(D,H))\n",
    "    db = np.random.normal(size=(H))\n",
    "\n",
    "\n",
    "    ddX_approx = (FC_forward(X+eta*dX,W,b).sum() - FC_forward(X,W,b).sum())/eta\n",
    "    dc_dX, _, _ = FC_backward(np.ones((N,H)), X, W, b)\n",
    "    ddX = (dc_dX*dX).sum()\n",
    "    if(np.isclose(ddX,ddX_approx)):\n",
    "        print('Test FC_backward dl_dX: SUCCESS')\n",
    "    else:\n",
    "        print('Test FC_backward dl_dX: FAILURE')\n",
    "        sys.exit()\n",
    "    \n",
    "    ddW_approx = (FC_forward(X,W+eta*dW,b).sum() - FC_forward(X,W,b).sum())/eta\n",
    "    _, dc_dW, _ = FC_backward(np.ones((N,H)), X, W, b)\n",
    "    ddW = (dc_dW*dW).sum()\n",
    "    if(np.isclose(ddW,ddW_approx)):\n",
    "        print('Test FC_backward dl_dW: SUCCESS')\n",
    "    else:\n",
    "        print('Test FC_backward dl_dW: FAILURE')\n",
    "        sys.exit()\n",
    "    \n",
    "    ddb_approx = (FC_forward(X,W,b+eta*db).sum() - FC_forward(X,W,b).sum())/eta\n",
    "    _, _, dc_db = FC_backward(np.ones((N,H)), X, W, b)\n",
    "    ddb = (dc_db*db).sum()\n",
    "    if(np.isclose(ddb,ddb_approx)):\n",
    "        print('Test FC_backward dl_db: SUCCESS')\n",
    "    else:\n",
    "        print('Test FC_backward dl_db: FAILURE')\n",
    "        sys.exit()\n",
    "    \n",
    "    return\n",
    "\n",
    "test_FC_backward()"
   ]
  },
  {
   "cell_type": "code",
   "execution_count": null,
   "metadata": {},
   "outputs": [],
   "source": [
    "def test_relu_backward():\n",
    "    \n",
    "    eta = 1e-5\n",
    "    N = 100\n",
    "    D = 10\n",
    "    X = np.random.normal(size=(N,D))\n",
    "    dX = np.random.normal(size=(N,D))\n",
    "\n",
    "    ddX_approx = (relu_forward(X+eta*dX).sum() - relu_forward(X).sum())/eta\n",
    "    dc_dX = relu_backward(np.ones((N,D)), X)\n",
    "    ddX = (dc_dX*dX).sum()\n",
    "    if(np.isclose(ddX,ddX_approx)):\n",
    "        print('Test relu_backward dl_db: SUCCESS')\n",
    "    else:\n",
    "        print('Test relu_backward dl_db: FAILURE')\n",
    "        sys.exit()\n",
    "    \n",
    "    return\n",
    "\n",
    "test_relu_backward()"
   ]
  },
  {
   "cell_type": "markdown",
   "metadata": {},
   "source": [
    "### Implémentation d'un MLP à une couche cachée :"
   ]
  },
  {
   "cell_type": "code",
   "execution_count": 12,
   "metadata": {},
   "outputs": [],
   "source": [
    "class MLP:\n",
    "    def __init__(self, H):\n",
    "\n",
    "        self.C = 3\n",
    "        self.D = 2\n",
    "        self.H = H\n",
    "        \n",
    "\n",
    "        #parameters\n",
    "        self.W1 = (np.sqrt(6./self.D))*(2*(np.random.uniform(size=(self.D,self.H))-0.5))\n",
    "        self.b1 = (1./np.sqrt(self.D))*(2*(np.random.uniform(size=(self.H))-0.5))\n",
    "        self.W3 = (np.sqrt(6./self.H))*(2*(np.random.uniform(size=(self.H,self.C))-0.5))\n",
    "        self.b3 = (1./np.sqrt(self.H))*(2*(np.random.uniform(size=(self.C))-0.5))\n",
    "        \n",
    "        #gradients\n",
    "        self.dc_dW1 = np.zeros_like(self.W1)\n",
    "        self.dc_db1 = np.zeros_like(self.b1)\n",
    "        self.dc_dW3 = np.zeros_like(self.W3)\n",
    "        self.dc_db3 = np.zeros_like(self.b3)\n",
    "        \n",
    "\n",
    "        \n",
    "    def forward(self,X):\n",
    "    \n",
    "        X1 = FC_forward(X, self.W1, self.b1) #NxH\n",
    "        X2 = relu_forward(X1) #NxH\n",
    "        S = FC_forward(X2, self.W3, self.b3) #NxC\n",
    "    \n",
    "        return X,X1,X2,S\n",
    "    \n",
    "    def backward(self,dc_dS, S, X2, X1, X0):\n",
    "        \n",
    "        dc_dX2, dc_dW3, dc_db3 = FC_backward(dc_dS, X2, self.W3, self.b3)\n",
    "        self.dc_dW3 += dc_dW3\n",
    "        self.dc_db3 += dc_db3\n",
    "        \n",
    "        dc_dX1 = relu_backward(dc_dX2, X1)\n",
    "        \n",
    "        dc_dX0, dc_dW1, dc_db1 = FC_backward(dc_dX1, X0, self.W1, self.b1)\n",
    "        self.dc_dW1 += dc_dW1\n",
    "        self.dc_db1 += dc_db1\n",
    "        \n",
    "        \n",
    "        return\n",
    "        "
   ]
  },
  {
   "cell_type": "markdown",
   "metadata": {},
   "source": [
    "### Définition de la fonction de coût :"
   ]
  },
  {
   "cell_type": "code",
   "execution_count": 13,
   "metadata": {},
   "outputs": [],
   "source": [
    "def logsoftmax(x):\n",
    "    x_shift = x - np.amax(x, axis=1, keepdims=True)\n",
    "    return x_shift - np.log(np.exp(x_shift).sum(axis=1, keepdims=True))   \n",
    "    \n",
    "def softmax(x):\n",
    "    e_x = np.exp(x - np.amax(x, axis=1, keepdims=True))\n",
    "    return e_x / e_x.sum(axis=1, keepdims=True)\n",
    "    \n",
    "def crossEntropyLoss(S, y):\n",
    "    N = y.shape[0]\n",
    "    P = softmax(S.astype('double'))\n",
    "    log_p = logsoftmax(S.astype('double'))\n",
    "    a = log_p[np.arange(N),y]\n",
    "    l = -a.sum()/N\n",
    "    dc_dS = P\n",
    "    dc_dS[np.arange(N),y] -= 1\n",
    "    dc_dS = dc_dS/N\n",
    "    return (l, dc_dS)"
   ]
  },
  {
   "cell_type": "markdown",
   "metadata": {},
   "source": [
    "### Implémentation de la méthode de descente de gradient avec moment :"
   ]
  },
  {
   "cell_type": "code",
   "execution_count": 14,
   "metadata": {},
   "outputs": [],
   "source": [
    "class GradientDescentWithMomentum:\n",
    "    def __init__(self, model, beta, lr):\n",
    "        \n",
    "        self.model = model\n",
    "        self.beta= beta\n",
    "        self.lr = lr\n",
    "        \n",
    "        #momentum\n",
    "        self.VW1 = np.zeros_like(self.model.W1)\n",
    "        self.Vb1 = np.zeros_like(self.model.b1)\n",
    "        self.VW3 = np.zeros_like(self.model.W3)\n",
    "        self.Vb3 = np.zeros_like(self.model.b3)\n",
    "        \n",
    "        self.is_init = True\n",
    "    def step(self):\n",
    "        if(self.is_init == True):\n",
    "            self.VW1 = self.model.dc_dW1      \n",
    "            self.VW3 = self.model.dc_dW3         \n",
    "            self.Vb1 = self.model.dc_db1           \n",
    "            self.Vb3 = self.model.dc_db3\n",
    "            self.is_init = False\n",
    "        else:            \n",
    "            self.VW1 = self.beta*self.VW1 + self.model.dc_dW1\n",
    "            self.VW3 = self.beta*self.VW3 + self.model.dc_dW3\n",
    "            self.Vb1 = self.beta*self.Vb1 + self.model.dc_db1\n",
    "            self.Vb3 = self.beta*self.Vb3 + self.model.dc_db3\n",
    "        \n",
    "        self.model.W1 -= self.lr*self.VW1\n",
    "        self.model.W3 -= self.lr*self.VW3\n",
    "        self.model.b1 -= self.lr*self.Vb1\n",
    "        self.model.b3 -= self.lr*self.Vb3\n",
    "    \n",
    "    def zero_grad(self):\n",
    "        self.model.dc_dW1.fill(0.)\n",
    "        self.model.dc_db1.fill(0.)\n",
    "        self.model.dc_dW3.fill(0.)\n",
    "        self.model.dc_db3.fill(0.)"
   ]
  },
  {
   "cell_type": "markdown",
   "metadata": {},
   "source": [
    "### Avant de lancer un apprentissage, il faut choisir les hyper-paramètres de l'architecture et de l'algorithme de descente de gradient avec moment"
   ]
  },
  {
   "cell_type": "code",
   "execution_count": 15,
   "metadata": {},
   "outputs": [],
   "source": [
    "#%% HYPERPARAMETERS\n",
    "H = 300\n",
    "lr = 1e-2 #learning rate\n",
    "beta = 0.9 #momentum parameter"
   ]
  },
  {
   "cell_type": "markdown",
   "metadata": {},
   "source": [
    "### Création d'une instance du MLP à une couche cachée :"
   ]
  },
  {
   "cell_type": "code",
   "execution_count": 16,
   "metadata": {},
   "outputs": [],
   "source": [
    "model = MLP(H)"
   ]
  },
  {
   "cell_type": "markdown",
   "metadata": {},
   "source": [
    "### Création d'une instance de la descente de gradient avec moment"
   ]
  },
  {
   "cell_type": "code",
   "execution_count": 17,
   "metadata": {},
   "outputs": [],
   "source": [
    "optimizer = GradientDescentWithMomentum(model, beta, lr)"
   ]
  },
  {
   "cell_type": "markdown",
   "metadata": {},
   "source": [
    "### Nous pouvons lancer l'optimisation :"
   ]
  },
  {
   "cell_type": "code",
   "execution_count": null,
   "metadata": {},
   "outputs": [],
   "source": [
    "c_seq = []\n",
    "it_seq = []\n",
    "line_loss, = axs1[1].plot(it_seq,c_seq)\n",
    "axs1[1].legend()\n",
    "axs1[1].set_xlabel('Iterations')\n",
    "\n",
    "it = 0\n",
    "while 1:    \n",
    "    #Forward Pass\n",
    "    X0,X1,X2,S = model.forward(X)\n",
    "    \n",
    "    #Compute Loss\n",
    "    [c, dc_dS] = crossEntropyLoss(S, y)\n",
    "    \n",
    "    #Print Loss and Classif Accuracy\n",
    "    pred = np.argmax(S, axis=1)\n",
    "    acc = (np.argmax(S, axis=1) == y).astype('float').sum()/N\n",
    "    print('Iter {} | Training Loss = {} | Training Accuracy = {}%'.format(it,c,acc*100))\n",
    "\n",
    "    #Backward Pass (Compute Gradient)\n",
    "    optimizer.zero_grad()\n",
    "    model.backward(dc_dS, S, X2, X1, X0)\n",
    "    \n",
    "    #Update Parameters\n",
    "    optimizer.step()\n",
    "    it += 1\n",
    "    \n",
    "    c_seq.append(c)\n",
    "    it_seq.append(it)\n",
    "    if(np.mod(it,10)==0):\n",
    "        #Plot decision boundary\n",
    "        axs1[0].cla()\n",
    "        for i in range(C):\n",
    "            x_c = X[y==i,:]\n",
    "            axs1[0].plot(x_c[:,0],x_c[:,1],style_per_class[i],markersize=7, markeredgewidth=3.)\n",
    "        utils.plot_contours(axs1[0], model, xx, yy, cmap=plt.cm.coolwarm, alpha=0.8)\n",
    "        \n",
    "        line_loss.remove()\n",
    "        line_loss, = axs1[1].plot(it_seq,c_seq,'r',label='Training loss')\n",
    "        axs1[1].legend()\n",
    "        fig1.canvas.draw()\n",
    "        fig1.canvas.flush_events()\n",
    "        plt.pause(0.1)"
   ]
  },
  {
   "cell_type": "markdown",
   "metadata": {},
   "source": [
    "## Travail à effectuer  \n",
    "Après avoir implémenté la fonction `backward`, vous devriez constater que l'apprentissage sur l'exemple jouet \"fonctionne\", c'est-à-dire que le coût diminue progressivement vers zéro et le taux de bonne classification atteint rapidement 100%.  \n",
    "  \n",
    "Si vous avez le temps :\n",
    "* Vous remarquerez que les paramètres du MLP sont initialisés aléatoirement selon une distribution uniforme centrée en zéro appelée \"Initialisation de Kaiming\". Remplacer cette initialisation en initialisant tous les paramètres à zéro. Afficher les valeurs des activations (`X1`, `X2`, `S`) et des dérivées (notamment `dc_dW3` et `dc_dW1`). Que constatez-vous ? Pourquoi ?\n",
    "* Restaurer l'initialisation aléatoire des paramètres.\n",
    "* Modifier l'implémentation pour obtenir un MLP à 2 couches cachées (rajouter une transformation affine et une ReLU au MLP actuel).\n",
    "* Modifier l'implémentation pour la rendre générique de telle sorte que le nombre de couches cachées soit un hyper-paramètre réglable."
   ]
  },
  {
   "cell_type": "markdown",
   "metadata": {},
   "source": [
    "# PARTIE 2 : Reconnaissance de chiffres manuscrits"
   ]
  },
  {
   "cell_type": "markdown",
   "metadata": {},
   "source": [
    "Maintenant que vous disposez d'une implémentation fonctionnelle de l'optimisation des paramètres d'un MLP sur un exemple \"jouet\", vous allez pouvoir l'adapter à un cas réel (de petite taille pour pouvoir effectuer des apprentissages en quelques dizaines de secondes sur CPU).  \n",
    "\n",
    "La base de données étiquetées MNIST contient 70000 images de chiffres manuscrits. Chaque image est de taille 28x28, et est accompagnée d'une étiquette indiquant le chiffre qu'elle représente (0,1,2,..,9). Ainsi la base de données MNIST est très pratique pour entraîner un réseau de neurones à reconnaître des chiffres manuscrits."
   ]
  },
  {
   "cell_type": "markdown",
   "metadata": {},
   "source": [
    "### Mise en place de la base MNIST"
   ]
  },
  {
   "cell_type": "markdown",
   "metadata": {},
   "source": [
    "+ Télécharger la base MNIST [ici](https://gbourmaud.github.io/files/intro_deep_learning/TP/TP_MLP/IA200/MNIST_bmp.zip)\n",
    "+ Décompresser le ficher dans `/tmp` **(attention bien décompresser dans `/tmp` et pas dans `/net/.../tmp`)**\n",
    "+ Les fichiers décompressés sont au format .bmp, ainsi vous pouvez les ouvrir pour regarder à quoi ressemble les données de cette base. **Un problème d'apprentissage supervisé repose sur une base de données étiquetées, ainsi il est très important de prendre le temps de visualiser les données et leurs étiquettes pour savoir ce qu'on s'apprête à traiter !**\n",
    "+ Le code suivant permet de charger la base d'entraînement de MNIST (60000 images) ainsi que la base de test de MNIST (10000 images) (la partie `__main__` permet d'afficher quelques images et leurs étiquettes) :"
   ]
  },
  {
   "cell_type": "code",
   "execution_count": 3,
   "metadata": {},
   "outputs": [
    {
     "data": {
      "image/png": "[encoded data removed]",
      "text/plain": [
       "<Figure size 640x480 with 32 Axes>"
      ]
     },
     "metadata": {},
     "output_type": "display_data"
    }
   ],
   "source": [
    "import PIL.Image as Image\n",
    "from os import path\n",
    "from os import listdir\n",
    "import numpy as np\n",
    "import math\n",
    "import matplotlib.pyplot as plt\n",
    "\n",
    "def load_MNIST(path_MNIST_bmp, mean_norm=0., std_norm=1.):\n",
    "    \n",
    "    filenames = listdir(path_MNIST_bmp)\n",
    "    \n",
    "    imgs_train = np.zeros((60000,28,28))\n",
    "    labels_train = np.zeros(60000,dtype=np.uint8)\n",
    "    n_train = 0\n",
    "    \n",
    "    imgs_test = np.zeros((10000,28,28))\n",
    "    labels_test = np.zeros(10000,dtype=np.uint8)\n",
    "    n_test = 0\n",
    "    \n",
    "    W=H=28\n",
    "    for i, filename in enumerate(filenames):\n",
    "        \n",
    "        f_name, f_ext = path.splitext(filename)\n",
    "        set_type, class_type ,num_im = f_name.split('_')\n",
    "        \n",
    "        num_im = int(num_im)\n",
    "        img = np.array(Image.open(path.join(path_MNIST_bmp,filename)))/255.\n",
    "        \n",
    "        N_W = math.ceil(math.sqrt(num_im))\n",
    "        N_H = math.ceil(num_im/N_W)\n",
    "        \n",
    "        im_array_ext = img.reshape(N_H,H,W*N_W).transpose((1,0,2))\n",
    "        im_array_ext = im_array_ext.reshape(H,N_W*N_H,W).transpose((1,0,2))\n",
    "\n",
    "        im_array = im_array_ext[:num_im,:,:]        \n",
    "        \n",
    "        if(set_type=='train'):\n",
    "            imgs_train[n_train:n_train+num_im,:,:] = (im_array-mean_norm)/std_norm\n",
    "            labels_train[n_train:n_train+num_im] = int(class_type)\n",
    "            n_train += num_im\n",
    "        elif(set_type=='test'):\n",
    "            imgs_test[n_test:n_test+num_im,:,:] = (im_array-mean_norm)/std_norm\n",
    "            labels_test[n_test:n_test+num_im] = int(class_type)\n",
    "            n_test += num_im\n",
    "                \n",
    "    assert n_test == 10000\n",
    "    assert n_train == 60000\n",
    "        \n",
    "        \n",
    "    \n",
    "    return imgs_train, labels_train, imgs_test, labels_test\n",
    "    \n",
    "if(__name__ == \"__main__\"):\n",
    "    path_MNIST_bmp = './MNIST_bmp'\n",
    "\n",
    "    imgs_train, labels_train, imgs_test, labels_test = load_MNIST(path_MNIST_bmp, mean_norm=0., std_norm=1.)\n",
    "    n_train = imgs_train.shape[0]\n",
    "    n_test = imgs_test.shape[0]\n",
    "    \n",
    "    ids = np.random.permutation(n_train)\n",
    "    \n",
    "    plt.figure()\n",
    "    for i in range(8):\n",
    "        for j in range(4):\n",
    "            plt.subplot(4,8,i+1 + j*8)\n",
    "            plt.imshow(imgs_train[ids[i+j*8],:,:])\n",
    "            plt.title(labels_train[ids[i+j*8]])\n",
    "            plt.axis('off')\n",
    "\n",
    "    vec_train = imgs_train.reshape((n_train,-1))"
   ]
  },
  {
   "cell_type": "markdown",
   "metadata": {},
   "source": [
    "### Normalisation des données\n",
    "\n",
    "En pratique, les données doivent être normalisées pour faciliter l'apprentissage. La normalisation s'effectue généralement en calculant la moyenne empirique et l'écart-type empirique de la base de données.\n"
   ]
  },
  {
   "cell_type": "code",
   "execution_count": 5,
   "metadata": {},
   "outputs": [
    {
     "name": "stdout",
     "output_type": "stream",
     "text": [
      "Mean MNIST 0.13066047627384297, Std MNIST 0.30810780385646214\n"
     ]
    }
   ],
   "source": [
    " #%% Compute mean and std\n",
    "mean = np.mean(imgs_train)\n",
    "std = np.std(imgs_train)\n",
    "print('Mean MNIST {}, Std MNIST {}'.format(mean, std))"
   ]
  },
  {
   "cell_type": "markdown",
   "metadata": {},
   "source": [
    "Vous pouvez utiliser ces valeurs lorsque vous chargez les données : `load_MNIST(path_MNIST_bmp, mean_norm=0.1306, std_norm=0.3080)`."
   ]
  },
  {
   "cell_type": "markdown",
   "metadata": {},
   "source": [
    "# Travail à effectuer\n",
    "\n",
    "+ Adapter le code de la Partie 1 pour entraîner un MLP à reconnaître des chiffres manuscrits avec une descente de gradient **stochastique** (la fonction `np.random.permutation` permet notamment de mélanger des indices, ce qui est pratique pour mélanger les données avant chaque epoch), avec **arrêt prématuré** (sauvegarder les paramètres sur le disque dur au cours de l'entraînement). **Remarque : Tout ce qui concerne la génération des données de l'exemple jouet de la Partie 1, ainsi que les fonctions d'affichage des frontières de décisions ne doivent pas être conservées.**\n",
    "+ Faire un second script chargeant les paramètres appris et testant le modèle sur la base de test. Si votre code fonctionne correctement, vous devriez obtenir un taux de bonne classification supérieur à 90% sur la base de test.\n",
    "+ Modifier les hyperparamètres (pas d'apprentissage, taille du minibatch, nombre de couches du MLP, taille de chaque couche,...) pour essayer d'améliorer le taux de bonne classification."
   ]
  },
  {
   "cell_type": "markdown",
   "metadata": {},
   "source": [
    "Si vous êtes bloqués, voici un exemple de correction : [main_MLP_two_layers_MNIST.py](https://gbourmaud.github.io/files/intro_deep_learning/TP/TP_MLP/IA200/main_MLP_two_layers_MNIST.py) avec le fichier [utils.py](https://gbourmaud.github.io/files/intro_deep_learning/TP/TP_MLP/IA200/utils.py)."
   ]
  },
  {
   "cell_type": "code",
   "execution_count": null,
   "metadata": {},
   "outputs": [],
   "source": []
  }
 ],
 "metadata": {
  "kernelspec": {
   "display_name": "Python 3 (ipykernel)",
   "language": "python",
   "name": "python3"
  },
  "language_info": {
   "codemirror_mode": {
    "name": "ipython",
    "version": 3
   },
   "file_extension": ".py",
   "mimetype": "text/x-python",
   "name": "python",
   "nbconvert_exporter": "python",
   "pygments_lexer": "ipython3",
   "version": "3.10.14"
  }
 },
 "nbformat": 4,
 "nbformat_minor": 4
}
