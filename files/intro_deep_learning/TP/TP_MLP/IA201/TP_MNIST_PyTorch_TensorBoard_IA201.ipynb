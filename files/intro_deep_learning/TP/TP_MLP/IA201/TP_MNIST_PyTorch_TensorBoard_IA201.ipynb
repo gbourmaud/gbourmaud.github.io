{
 "cells": [
  {
   "cell_type": "markdown",
   "metadata": {
    "tags": [
     "pdf-title"
    ]
   },
   "source": [
    "# TP MNIST PyTorch\n",
    "Dans ce TP, vous allez entraîner un MLP à reconnaître des chiffres manuscrits en utilisant la base de données MNIST et la bibliothèque PyTorch. "
   ]
  },
  {
   "cell_type": "markdown",
   "metadata": {},
   "source": [
    "## Configuration\n",
    "### Si vous utilisez un ordinateur de l'Enseirb:\n",
    "#### 1) Lancer une session linux (et non pas windows)\n",
    "#### 2) Aller dans \"Applications\", puis \"Autre\", puis \"conda_pytorch\" (un terminal devrait s'ouvrir)\n",
    "#### 3) Dans ce terminal, taper la commande suivante pour lancer Spyder :  \n",
    "`spyder &`  \n",
    "### Si vous utilisez votre ordinateur personnel, il faudra installer Spyder.  \n",
    "\n",
    "---\n",
    "---\n",
    "## Dans tous les cas, ne pas oublier de configurer Spyder en suivant ces [instructions](https://gbourmaud.github.io/files/configuration_spyder_annotated.pdf).\n",
    "---\n",
    "---"
   ]
  },
  {
   "cell_type": "markdown",
   "metadata": {},
   "source": [
    "# I) Introduction à PyTorch et à l'Autograd\n",
    "\n",
    "[Notebook Introduction à PyTorch et à l'Autograd](https://github.com/gbourmaud/gbourmaud.github.io/blob/master/files/intro_deep_learning/TP/TP_MLP/IA201/intro_autograd.ipynb)\n"
   ]
  },
  {
   "cell_type": "markdown",
   "metadata": {},
   "source": [
    "# II) Préparation de la base de données étiquetées MNIST"
   ]
  },
  {
   "cell_type": "markdown",
   "metadata": {},
   "source": [
    "La base de données de reconnaissance de chiffres manuscrits MNIST est constituée d'environ 70 000 imagettes, chacune de taille 28x28.  \n",
    "  \n",
    "Il s'agit d'une **petite** base de données permettant de faire des apprentissages **en quelques secondes sur CPU**.  \n",
    "  \n",
    "Remarquons qu'il n'y aucun problème pour charger **toute** la base de données en mémoire (70 000 x 28 x 28 valeurs stockées sur 32 bits occupent environ 220 Mo). Il est très rare de se retrouver dans une telle situation, en général la base de données est **trop importante pour être chargée intégralement en mémoire** et il faut être capable de gérer le chargement des données depuis le disque dur **à la demande**.\n",
    "  \n",
    "L'objectif de ce TP étant de maîtriser les principaux outils permettant d'effectuer l'apprentissage d'un réseau de neurones, **nous allons voir comment effectuer ces chargements à la demande**. **Pour se rapprocher le plus possible d'un cas \"classique\" de chargement à la demande**, la base de données MNIST a été réorganisée en créant un fichier `.bmp` par image (donc 70 000 fichiers au total).  \n",
    "  \n",
    "Il va donc falloir prendre quelques précautions, en téléchargeant la base de données, pour que ces 70 000 fichiers soient créés en local sur le disque dur (par exemple en travaillant dans `/tmp`) et non pas à distance sur le serveur de l'Enseirb. **Rappel : votre répertoire \"home\" `~` se situe sur un serveur `/net/...`.** Si vous décompressiez l'archive dans votre \"home\", vous créeriez 70 000 fichiers sur le serveur ! Et chaque accès à un fichier entraînerait un transfert sur le réseau, ce qui serait très inefficace.\n",
    "\n",
    "- Télécharger l'archive de la base de données dans `/tmp` : `wget -P /tmp https://gbourmaud.github.io/files/intro_deep_learning/TP/TP_MLP/MNIST/MNIST.tar.gz`\n",
    "- Décompresser l'archive dans `/tmp` : `tar -xzf /tmp/MNIST.tar.gz -C /tmp`\n",
    "- Inspecter les fichiers décompressés. Combien y-a-t-il de données d'entraînement ? de données de test ? Visualiser plusieurs images."
   ]
  },
  {
   "cell_type": "markdown",
   "metadata": {},
   "source": [
    "# III) Chargement des données\n",
    "\n",
    "Rappelons qu'en pratique :\n",
    "* Un apprentissage se fait sur un (ou plusieurs) GPU. Remarque : dans ce TP nous utilisons MNIST qui est une base de données suffisamment petite pour faire des apprentissages sur CPU en quelques secondes. **Mais grâce à PyTorch, le code final pourra également s'exécuter sur GPU de manière transparente, comme nous allons le voir.**\n",
    "* En général un apprentissage est long, donc on veut enchaîner les itérations de descente de gradient stochastique **sans perdre de temps à attendre qu'un minibatch soit chargé en mémoire depuis le disque dur**.\n",
    "  \n",
    "La solution consiste à laisser tourner des processus en tâche de fond **qui préparent des minibatches**. Lorsque la boucle d'apprentissage a fini une itération, elle récupère un minibatch qui est déjà prêt. S'il y a **suffisamment de processus tournant en tâche de fond** alors il y a toujours des minibatches disponibles et ainsi il n'y a pas de temps perdu où la boucle d'apprentissage attend que des données soient chargées depuis le disque dur.  \n",
    "  \n",
    "La bibliothèque PyTorch contient des fonctionnalités permettant d'obtenir un tel résultat, notamment à travers les classes `torch.utils.data.Dataset` et `torch.utils.data.Dataloader`. \n"
   ]
  },
  {
   "cell_type": "markdown",
   "metadata": {},
   "source": [
    "## 1) La classe `torch.utils.data.Dataset`\n",
    "\n",
    "Dans un premier temps, il faut créer une classe `MNISTDataset` dédiée à la base de données MNIST qui hérite de `torch.utils.data.Dataset`.  La documentation de cette classe est consultable [ici](https://pytorch.org/tutorials/beginner/basics/data_tutorial.html). \n",
    "\n",
    "Cette classe `MNISTDataset` doit contenir au moins : \n",
    "- la méthode `def __init__(self, ...):` qui s'exécute à la création de l'objet. Cette méthode a principalement pour objectif de charger en mémoire la liste des noms des images de la base de données. Attention, il ne faut surtout pas charger toutes les images de la base de données dans cette fonction. Certes cela rentrerait en mémoire pour MNIST car cette base de données est *petite* mais cela ne fonctionnerait pas pour une base de données plus grande. Le chargement d'une image s'effectue dans la méthode `def __getitem__(self, idx):`.\n",
    "- la méthode `def __len__(self):` qui renvoie le nombre de données étiquetées de la base\n",
    "- la méthode `def __getitem__(self, idx):` qui permet de charger et de renvoyer l'image numéro `idx` ainsi que son étiquette et toutes les autres informations jugées nécessaires.\n",
    "\n",
    "Pour gagner du temps, les étapes précédents ont déjà été implémentées : [MNISTDataset.py](https://gbourmaud.github.io/files/intro_deep_learning/TP/TP_MLP/MNIST/MNISTDataset.py)"
   ]
  },
  {
   "cell_type": "markdown",
   "metadata": {},
   "source": [
    "Dans un nouveau script `main.py`, tester ce `Dataset` en affichant 4 éléments de la base de données MNIST."
   ]
  },
  {
   "cell_type": "code",
   "execution_count": 8,
   "metadata": {},
   "outputs": [
    {
     "data": {
      "image/png": "[encoded data removed]",
      "text/plain": [
       "<Figure size 640x480 with 4 Axes>"
      ]
     },
     "metadata": {},
     "output_type": "display_data"
    }
   ],
   "source": [
    "import torch\n",
    "from MNISTDataset import MNISTDataset\n",
    "import torchvision.transforms as T\n",
    "import matplotlib.pyplot as plt\n",
    "import torch.nn as nn\n",
    "\n",
    "torch.random.manual_seed(0)\n",
    "path_MNIST_train = '/tmp/MNIST/Training'\n",
    "mean_norm = 0. #0.1306\n",
    "std_norm = 1. #0.3081            \n",
    "training_set = MNISTDataset(path_MNIST_train, mean_norm=mean_norm, std_norm=std_norm)\n",
    "\n",
    "#%% Show 4 pairs of data\n",
    "fig1, axs1 = plt.subplots(ncols=4)\n",
    "\n",
    "offset = 7000\n",
    "for i in range(4):\n",
    "    image, label, _ = training_set[i+offset]\n",
    "    axs1[i].imshow(T.ToPILImage()((image*std_norm)+mean_norm))\n",
    "    axs1[i].set_title('True label {}'.format(label))\n",
    "    \n",
    "plt.pause(1.)"
   ]
  },
  {
   "cell_type": "markdown",
   "metadata": {},
   "source": [
    "### Normalisation des données\n",
    "\n",
    "En pratique, les données doivent être normalisées pour faciliter l'apprentissage. La normalisation s'effectue généralement en calculant la moyenne empirique et l'écart-type empirique de la base de données.\n"
   ]
  },
  {
   "cell_type": "code",
   "execution_count": 2,
   "metadata": {},
   "outputs": [
    {
     "name": "stdout",
     "output_type": "stream",
     "text": [
      "0\n",
      "10000\n",
      "20000\n",
      "30000\n",
      "40000\n",
      "50000\n",
      "Mean MNIST 0.13059155642986298, Std MNIST 0.30801624059677124\n"
     ]
    }
   ],
   "source": [
    "#%% Compute mean and std\n",
    "mean = 0\n",
    "data_full = []\n",
    "for i in range(len(training_set)):\n",
    "    if(i%10000==0):\n",
    "        print(i)\n",
    "    image, label, _ = training_set[i]\n",
    "    data_full.append(image.ravel().data) #stores all data, only possible because MNIST is small\n",
    "    \n",
    "data_full_concat = torch.cat(data_full)\n",
    "mean = torch.mean(data_full_concat)\n",
    "std = torch.std(data_full_concat)\n",
    "print('Mean MNIST {}, Std MNIST {}'.format(mean, std))"
   ]
  },
  {
   "cell_type": "markdown",
   "metadata": {},
   "source": [
    "Vous pouvez utiliser ces valeurs lorsque vous créez un object MNISTDataset : `training_set = MNISTDataset(path_MNIST_train, mean_norm=0.1306, std_norm=0.3080)`"
   ]
  },
  {
   "cell_type": "markdown",
   "metadata": {},
   "source": [
    "## 2) La classe `torch.utils.data.DataLoader`\n"
   ]
  },
  {
   "cell_type": "markdown",
   "metadata": {},
   "source": [
    "Maintenant que le `Dataset` fonctionne, il suffit de l'utiliser lors de la création d'un `DataLoader` pour que PyTorch se charge de créer des processus qui vont préparer des minibatches en tâche de fond."
   ]
  },
  {
   "cell_type": "code",
   "execution_count": 11,
   "metadata": {},
   "outputs": [],
   "source": [
    "batch_size = 128\n",
    "train_loader = torch.utils.data.DataLoader(dataset = training_set,\n",
    "                                       batch_size=batch_size, #nombre d'éléments d'un minibatch\n",
    "                                       shuffle=True, #mélanger la base de données à la fin de chaque epoch\n",
    "                                       num_workers=2) #nombre de processus dédiées à la préparation des minibatches"
   ]
  },
  {
   "cell_type": "markdown",
   "metadata": {},
   "source": [
    "Afficher les 10 premiers éléments du premier minibatch."
   ]
  },
  {
   "cell_type": "code",
   "execution_count": null,
   "metadata": {},
   "outputs": [],
   "source": [
    "images, labels, _ = next(iter(train_loader))\n",
    "\n",
    "# Show 10 pairs of data\n",
    "fig2, axs2 = plt.subplots(ncols=10)\n",
    "for i in range(10):\n",
    "    axs2[i].imshow(T.ToPILImage()((images[i,:,:,:]*std_norm)+mean_norm))\n",
    "    axs2[i].set_title('{}'.format(labels[i]))\n",
    "    \n",
    "plt.pause(1.)"
   ]
  },
  {
   "cell_type": "markdown",
   "metadata": {},
   "source": [
    "- Quelle est la taille du tenseur `images` (`images.shape`) ?  En PyTorch, un minibatch d'images est un tenseur 4D : `taille_minibatch x nombre_de_canaux x nombre_de_lignes x nombre_de_colonnes`. \n",
    "- Quelle est la taille du tenseur `labels` ?\n",
    "\n",
    "Afin d'implémenter un entraînement avec arrêt prématuré, il nous faut également un dataloader de validation."
   ]
  },
  {
   "cell_type": "code",
   "execution_count": null,
   "metadata": {},
   "outputs": [],
   "source": [
    "path_MNIST_valid = '/tmp/MNIST/Validation'                \n",
    "valid_set = MNISTDataset(path_MNIST_valid)\n",
    "valid_loader = torch.utils.data.DataLoader(dataset = valid_set,\n",
    "                                       batch_size=batch_size,\n",
    "                                       shuffle=False,#inutile de mélanger pour la validation\n",
    "                                       num_workers=2)"
   ]
  },
  {
   "cell_type": "markdown",
   "metadata": {},
   "source": [
    "# IV) MLP sur MNIST en PyTorch\n"
   ]
  },
  {
   "cell_type": "markdown",
   "metadata": {},
   "source": [
    "Dans le [TP précédent](https://github.com/gbourmaud/gbourmaud.github.io/blob/master/files/intro_deep_learning/TP/TP_MLP/IA200/TP_MLP_numpy_jouet_et_MNIST.ipynb) vous aviez implémenté un MLP en Numpy sur MNIST. L'objectif de cette partie est d'obtenir le même résultat en utilisant les fonctionnalités de PyTorch. Pour cela, vous pouvez soit repartir de votre code, soit de la correction fournie lors du TP précédent : [main_MLP_two_layers_MNIST.py](https://gbourmaud.github.io/files/intro_deep_learning/TP/TP_MLP/IA200/main_MLP_two_layers_MNIST.py) et [utils.py](https://gbourmaud.github.io/files/intro_deep_learning/TP/TP_MLP/IA200/utils.py)"
   ]
  },
  {
   "cell_type": "markdown",
   "metadata": {},
   "source": [
    "## 1) Utilisation du DataLoader\n",
    "\n"
   ]
  },
  {
   "cell_type": "markdown",
   "metadata": {},
   "source": [
    "Lors du TP précédent, MNIST avait été chargé entièrement en mémoire (ce qui est uniquement possible car MNIST est une petite base de données), et la génération de minibatches se faisait \"à la main\" dans le processus principal. Maintenant que le `DataLoader` de MNIST est prêt, vous pouvez reprendre et adapter le code du TP précédent afin de lancer un apprentissage sur la base de données MNIST **en utilisant ce `DataLoader`**.\n",
    "\n",
    "#### Attention, le dataloader ressort des tenseurs de taille `taille_minibatch x nombre_de_canaux x nombre_de_lignes x nombre_de_colonnes` alors qu'un MLP fonctionne sur un minibatch de vecteurs : `taille_minibatch x taille_vecteur`. Vous pouvez vectoriser les 3 dernières dimensions d'un tenseur de taille `Mx1x28x28` (dans le but d'obtenir un tenseur de taille `Mx784`) en utilisant la méthode `.view(-1, 784)`.\n",
    "\n",
    "Si vous êtes bloqués, vous pouvez vous référer à cette correction : [main_MLP_two_layers_MNIST_dataloader.py](https://gbourmaud.github.io/files/intro_deep_learning/TP/TP_MLP/IA201/correction/main_MLP_two_layers_MNIST_dataloader.py)."
   ]
  },
  {
   "cell_type": "markdown",
   "metadata": {},
   "source": [
    "## 2) Utilisation de la fonctionnalité *autograd*"
   ]
  },
  {
   "cell_type": "markdown",
   "metadata": {},
   "source": [
    "Avant de pouvoir utiliser la fonctionnalité *autograd*, il faut modifier le code pour travailler avec des `torch.tensor` et non pas des `np.array`. Cette modification étant fastidieuse, voici le résultat : [main_MLP_two_layers_MNIST_dataloader_pytorch.py](https://gbourmaud.github.io/files/intro_deep_learning/TP/TP_MLP/IA201/correction/main_MLP_two_layers_MNIST_dataloader_pytorch.py) et [utils_pytorch.py](https://gbourmaud.github.io/files/intro_deep_learning/TP/TP_MLP/IA201/correction/utils_pytorch.py)\n",
    "\n",
    "L'objectif de cette partie consiste à remplacer, dans le code de la partie précédente, l'implémentation manuelle de la rétropropagation par la fonctionnalité *autograd*. Ainsi :\n",
    "* la méthode `def backward(self,dc_dS, S, X2, X1, X0)` de la classe `class MLP` doit être supprimée, et l'appel à cette méthode remplacé par l'appel à la méthode `.backward()` de l'autograd comme vu précédemment (`S.backward(dc_dS)`),\n",
    "* il faut activer le calcul des gradients des paramètres `W1`, `b1`, etc. (méthode `.requires_grad_()`), supprimer les variables gradients `dc_dW1`, `dc_db1`, etc.  \n",
    "* il faut modifier `GradientDescentWithMomentum` pour qu'il utilise les champs `.grad` des paramètres (car les variables gradients `dc_dW1`, `dc_db1`, etc. n'existent plus), et mettre au début de la méthode `def step(self):` `with t.no_grad():` pour que les opérations qui suivent ne soient pas mises dans le graphe de calcul.\n",
    "\n",
    "\n",
    "Le code obtenu devrait fonctionner exactement comme précédemment.  \n",
    "Si vous êtes bloqués, vous pouvez vous référer à cette correction : [main_MLP_two_layers_MNIST_autograd_pytorch.py](https://gbourmaud.github.io/files/intro_deep_learning/TP/TP_MLP/IA201/correction/main_MLP_two_layers_MNIST_autograd_pytorch.py) et [utils_autograd.py](https://gbourmaud.github.io/files/intro_deep_learning/TP/TP_MLP/IA201/correction/utils_autograd.py)"
   ]
  },
  {
   "cell_type": "markdown",
   "metadata": {},
   "source": [
    "## 3) Utilisation du paquet `torch.nn`"
   ]
  },
  {
   "cell_type": "markdown",
   "metadata": {},
   "source": [
    "En plus de la fonctionnalité autograd, la bibliothèque PyTorch contient de nombreuses implémentations de fonctions paramétriques qui permettent de construire une architecture beaucoup plus rapidement que ce que nous avons fait jusqu'à présent. Ces fonctions se trouvent dans le paquet `torch.nn`."
   ]
  },
  {
   "cell_type": "markdown",
   "metadata": {},
   "source": [
    "### Exemple de la transformation affine générale (\"Fully Connected\")"
   ]
  },
  {
   "cell_type": "code",
   "execution_count": 9,
   "metadata": {},
   "outputs": [
    {
     "name": "stdout",
     "output_type": "stream",
     "text": [
      "w:  Parameter containing:\n",
      "tensor([[-0.0043,  0.3097, -0.4752],\n",
      "        [-0.4249, -0.2224,  0.1548]], requires_grad=True)\n",
      "b:  Parameter containing:\n",
      "tensor([-0.0114,  0.4578], requires_grad=True)\n"
     ]
    }
   ],
   "source": [
    "import torch.nn as nn\n",
    "import torch\n",
    "\n",
    "linear = nn.Linear(3, 2)\n",
    "print ('w: ', linear.weight)\n",
    "print ('b: ', linear.bias)\n",
    "\n",
    "x = torch.randn(10, 3)\n",
    "pred = linear(x)"
   ]
  },
  {
   "cell_type": "markdown",
   "metadata": {},
   "source": [
    "On remarque que cette fonctionnalité \"cache\" beaucoup de détails d'implémentation. Par exemple concernant la fonction `nn.linear`, ses paramètres sont définis implicitement ainsi que la méthode d'initialisation de leurs valeurs.\n",
    "\n",
    "En modifiant la classe `class MLP` (de l'implémentation utilisant l'autograd) en faisant usage du paquet `torch.nn` on obtient l'implémentation suivante."
   ]
  },
  {
   "cell_type": "code",
   "execution_count": 10,
   "metadata": {},
   "outputs": [],
   "source": [
    "class MLP(nn.Module):\n",
    "    def __init__(self, H, C, D):\n",
    "        super(MLP, self).__init__()\n",
    "        \n",
    "        self.C = C #output size i.e number of classes for a classification task\n",
    "        self.D = D #input size (784 for MNIST)\n",
    "        self.H = H #hidden layer size\n",
    "        \n",
    "        self.fc1 = nn.Linear(self.D, self.H) \n",
    "        self.relu = nn.ReLU()\n",
    "        self.fc3 = nn.Linear(self.H, self.C)  \n",
    "        \n",
    "        #init parameters\n",
    "        with t.no_grad():\n",
    "            self.fc1.weight.uniform_(-math.sqrt(6./self.D), math.sqrt(6./self.D))\n",
    "            self.fc1.bias.uniform_(-1./math.sqrt(self.D), 1./math.sqrt(self.D))\n",
    "            self.fc3.weight.uniform_(-math.sqrt(6./self.H),math.sqrt(6./self.H))\n",
    "            self.fc3.bias.uniform_(-1./math.sqrt(self.H),1./math.sqrt(self.H))\n",
    "        \n",
    "    def forward(self,X):\n",
    "    \n",
    "        X1 = self.fc1(X) #NxH\n",
    "        X2 = self.relu(X1) #NxH\n",
    "        S = self.fc3(X2) #NxC\n",
    "    \n",
    "        return X,X1,X2,S"
   ]
  },
  {
   "cell_type": "markdown",
   "metadata": {},
   "source": [
    "Parmi les fonctions disponibles, `torch.nn` contient également les fonctions de coûts les plus communément utilisées. Ainsi la fonction `multinoulliCrossEntropyLoss` peut être remplacée par son équivalent PyTorch `nn.CrossEntropyLoss`.\n",
    "\n",
    "#### Remarque : la fonction de validation permettant d'évaluer les performances du réseau à la fin de chaque epoch devrait utiliser `with torch.no_grad():` car nous n'avons pas besoin de calculer de gradient pendant la validation.\n",
    "\n",
    "Le code obtenu devrait désormais être grandement simplifié par rapport au code initial utilisant Numpy, mais devrait fonctionner exactement comme auparavant.  \n",
    "  \n",
    "Si vous êtes bloqués, vous pouvez vous référer à cette correction : [main_MLP_two_layers_MNIST_nn_pytorch.py](https://gbourmaud.github.io/files/intro_deep_learning/TP/TP_MLP/IA201/correction/main_MLP_two_layers_MNIST_nn_pytorch.py) et [utils_nn.py](https://gbourmaud.github.io/files/intro_deep_learning/TP/TP_MLP/IA201/correction/utils_nn.py)"
   ]
  },
  {
   "cell_type": "markdown",
   "metadata": {},
   "source": [
    "## 4) Utilisation du paquet `torch.optim`"
   ]
  },
  {
   "cell_type": "markdown",
   "metadata": {},
   "source": [
    "Plusieurs algorithmes d'optimisation sont également disponibles dans le paquet `torch.optim`. \n",
    "\n",
    "Lire la page de la documentation concernant ce paquet https://pytorch.org/docs/stable/optim.html?highlight=torch%20optim#module-torch.optim.\n",
    "\n",
    "Utiliser l'algorithme `torch.optim.SGD` pour simplifier le code précédent.\n",
    "\n",
    "Vous pouvez comparer votre code à cette correction : [main_MLP_two_layers_MNIST_optim_pytorch.py](https://gbourmaud.github.io/files/intro_deep_learning/TP/TP_MLP/IA201/correction/main_MLP_two_layers_MNIST_optim_pytorch.py) et [utils_nn.py](https://gbourmaud.github.io/files/intro_deep_learning/TP/TP_MLP/IA201/correction/utils_optim.py) \n",
    "\n",
    "Et le modèle sauvegardé peut être testé avec le script suivant : [main_test_model.py](https://gbourmaud.github.io/files/intro_deep_learning/TP/TP_MLP/IA201/correction/main_test_model.py) \n",
    "  \n",
    "Observer comme le code est beaucoup plus court par rapport au début du TP, mais un certain nombre de choses sont désormais cachées. Désormais vous savez ce qui se cache dedans !"
   ]
  },
  {
   "cell_type": "markdown",
   "metadata": {},
   "source": [
    "# V) TensorBoard\n"
   ]
  },
  {
   "cell_type": "markdown",
   "metadata": {},
   "source": [
    "**Affichages**  \n",
    "Le code de correction utilise Matplotlib pour réaliser les affichages. Nous allons désormais utiliser un outil dédié : **TensorBoard**.  \n",
    "  \n",
    "TensorBoard est un outil de visualisation dédié aux expériences d'appentissage automatique. Il permet notamment de tracer des courbes au cours de l'entraînement ou encore de superposer des courbes issues de différents entraînement.\n",
    "Un exemple d'utilisation est présenté ici : https://pytorch.org/tutorials/recipes/recipes/tensorboard_with_pytorch.html\n",
    "\n",
    "L'objectif de cette partie est d'utiliser cet outil, en rajoutant quelques lignes de code à votre code d'entraînement du MLP sur MNIST (essentiellement `from torch.utils.tensorboard import SummaryWriter\n",
    "`, `writer = SummaryWriter()`, `writer.add_scalar(...)`)\n",
    " , pour afficher des informations relatives à l'entraînement en cours (courbe du coût d'apprentissage, courbe du coût de validation, courbe de la précision de validation, valeur du pas d'apprentissage au cours du temps, valeurs de certains gradients, etc.)."
   ]
  },
  {
   "cell_type": "markdown",
   "metadata": {},
   "source": [
    "# Bonus : MNIST décentré\n"
   ]
  },
  {
   "cell_type": "markdown",
   "metadata": {},
   "source": [
    "Les images de la base de données MNIST sont de taille 28x28. Dans chaque image, le chiffre se situe au centre de l'image. \n",
    "\n",
    "L'objectif de cette partie est de modifier le `Dataset` pour obtenir des images de taille 56x56 où le chiffre n'est plus centré. Ceci peut par exemple être implémenté dans la méthode `__get_item__` en générant une translation aléatoire (en x et en y) et en l'appliquant à l'image chargée.\n",
    "\n",
    "Cette nouvelle base de donnée, qu'on appellera *MNISTTranslation*, correspond à un problème d'apprentissage supervisé plus difficile que le problème initial. Pourquoi ? \n",
    "\n",
    "Lancer un entraînement avec le MLP précédemment implémenté. Que constatez-vous ? Pourquoi ?"
   ]
  },
  {
   "cell_type": "code",
   "execution_count": null,
   "metadata": {},
   "outputs": [],
   "source": []
  }
 ],
 "metadata": {
  "kernelspec": {
   "display_name": "Python 3 (ipykernel)",
   "language": "python",
   "name": "python3"
  },
  "language_info": {
   "codemirror_mode": {
    "name": "ipython",
    "version": 3
   },
   "file_extension": ".py",
   "mimetype": "text/x-python",
   "name": "python",
   "nbconvert_exporter": "python",
   "pygments_lexer": "ipython3",
   "version": "3.10.14"
  }
 },
 "nbformat": 4,
 "nbformat_minor": 4
}
