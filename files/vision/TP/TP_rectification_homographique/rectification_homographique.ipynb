{
 "cells": [
  {
   "cell_type": "markdown",
   "id": "0f365734",
   "metadata": {},
   "source": [
    "# TP rectification homographique"
   ]
  },
  {
   "cell_type": "markdown",
   "id": "8caf8367",
   "metadata": {},
   "source": [
    "**Guillaume Bourmaud - guillaume.bourmaud@enseirb-matmeca.fr**"
   ]
  },
  {
   "cell_type": "markdown",
   "id": "58d62fa4",
   "metadata": {},
   "source": [
    "L'objectif de ce TP est de mettre en oeuvre la notion d'homographie étudiée en cours.\n",
    "\n",
    "Pour cela, nous allons considérer l'image suivante ([lien de téléchargement](https://gbourmaud.github.io/files/vision/TP/TP_rectification_homographique/image1.jpg)) :  \n",
    "  \n",
    "![alt text](image1.jpg)\n",
    "Cette image correspond à la projection d'une scène planaire (dans notre cas une feuille A4 posée sur le sol) dans le plan image d'une caméra idéale du point de vue du modèle sténopé. Dans cette image, le texte présent sur la feuille A4 est difficilement lisible en raison de la rotation et de la translation de la caméra vis-à-vis de la feuille lors de la prise de vue.  \n",
    "  \n",
    "Nous avons vu que la transformation entre deux images $\\mathbf{I}_A$ et $\\mathbf{I}_B$ issues d'une scène planaire est une homographie $\\mathbf{H}_{AB}$ :  \n",
    "\n",
    "$$\\underline{\\mathbf{p}}_{A,i}=\\pi(\\mathbf{H}_{AB} \\underline{\\mathbf{p}}_{B,i}),$$  \n",
    "  \n",
    "où $\\underline{\\mathbf{p}}_{A,i}$ est un point (en coordonnées homogènes) dans l'image A, $\\underline{\\mathbf{p}}_{B,i}$ est son correspondant dans l'image B et $\\pi(\\cdot)$ est la fonction de projection."
   ]
  },
  {
   "cell_type": "markdown",
   "id": "41f6d057",
   "metadata": {},
   "source": [
    "Ce TP a pour but de mettre en oeuvre une méthode de rectification homographique permettant d'estimer cette matrice d'homographie $\\mathbf{H}_{AB}$. Une fois estimée, cette matrice définit une transformation qui pourra être appliquée à l'image ci-dessus pour obtenir une **image rectifiée** où le texte présent sur la feuille A4 est lisible. \n",
    "  \n",
    "Après rectification homographique, l'image rectifiée doit représenter la feuille A4 de telle sorte que cette dernière soit parfaitement lisible :  \n",
    "  \n",
    "![image rectifiée](image1_rect.jpg)"
   ]
  },
  {
   "cell_type": "markdown",
   "id": "e8a32110",
   "metadata": {},
   "source": [
    "### Correspondances\n",
    "\n",
    "Afin d'estimer l'homographie $\\mathbf{H}_{AB}$, nous avons besoin de 4 correspondances $(\\mathbf{p}_{A,i}, \\mathbf{p}_{B,i})_{i=1...4}$ définies graphiquement ci-après :\n",
    "\n",
    "![schéma](schema.png)\n",
    "\n",
    "L'image B représente une feuille A4 de taille 21cm par 29,7cm. Quelles sont les coordonnées (en cm) des 4 coins $(\\mathbf{p}_{B,i})_{i=1...4}$ ? Dans votre code, choisissez une résolution, par exemple 1 cm = 10 pixels, et créez une variable contenant les coordonnées en pixels :\n",
    "\n"
   ]
  },
  {
   "cell_type": "code",
   "execution_count": null,
   "id": "d18de02f",
   "metadata": {},
   "outputs": [],
   "source": [
    "p_B = np.array([[..., ..., ..., ...],[..., ..., ..., ...]])"
   ]
  },
  {
   "cell_type": "markdown",
   "id": "efc4a229",
   "metadata": {},
   "source": [
    "Concernant l'image A, nous pourrions faire une détection automatique des 4 coins $(\\mathbf{p}_{A,i})_{i=1...4}$ mais ce n'est pas l'objet de ce TP. À la place, vous pouvez simplement récupérer manuellement les coordonnées des 4 coins $(\\mathbf{p}_{A,i})_{i=1...4}$, puis créer dans votre code une variable contenant ces coordonnées :\n",
    "\n"
   ]
  },
  {
   "cell_type": "code",
   "execution_count": null,
   "id": "008735d7",
   "metadata": {},
   "outputs": [],
   "source": [
    "p_A = np.array([[..., ..., ..., ...],[..., ..., ..., ...]])"
   ]
  },
  {
   "cell_type": "markdown",
   "id": "c3cc862e",
   "metadata": {},
   "source": [
    "### Vérification visuelle des 4 correspondances\n",
    "\n",
    "La plupart des bugs proviennent de mauvaises correspondances. Ainsi dans votre code, reproduisez le schéma ci-dessus  (l'image B sera blanche dans votre cas car c'est l'image que vous souhaitez obtenir) pour vous assurer que vos correspondances sont bonnes.\n"
   ]
  },
  {
   "cell_type": "markdown",
   "id": "3fd6cd9a",
   "metadata": {},
   "source": [
    "### Implémentation de la méthode d'estimation (\"DLT\")\n",
    "\n",
    "1. Coder la méthode d'estimation d'homographie vue en cours.  \n",
    "    A.  Construire la matrice $\\mathbf{M}$ de taille $8\\times8$  et le vecteur $\\mathbf{p}_A$ de taille $8\\times1$  \n",
    "    B.  Résoudre numériquement (fonction `np.linalg.solve`) le système linéaire $\\mathbf{M}^T \\mathbf{M}\\mathbf{h}=\\mathbf{M}^T \\mathbf{p}_A$   \n",
    "    C.  Construire la matrice d'homographie $\\mathbf{H}_{AB}$ de taille $3\\times3$ à partir du vecteur $\\mathbf{h}$  \n",
    "    D.  Vérifier que $\\underline{\\mathbf{p}}_{A,i} = \\pi(\\mathbf{H}_{AB}\\underline{\\mathbf{p}}_{B,i})$ $\\forall i\\in [1...4]$ en traçant une croix colorée pour chaque $\\pi(\\mathbf{H}_{AB}\\underline{\\mathbf{p}}_{B,i})$ dans la figure précédente.\n",
    "5. Appliquer l'homographie estimée $\\mathbf{H}_{AB}$ à l'image à rectifier (application d'une transformation à une image).\n",
    "6. Sauvegarder l'image rectifiée. Le document obtenu devrait être parfaitement lisible."
   ]
  },
  {
   "cell_type": "markdown",
   "id": "3d383d40",
   "metadata": {},
   "source": [
    "### Fonction `findHomography` d'OpenCV\n"
   ]
  },
  {
   "cell_type": "markdown",
   "id": "8439fe22",
   "metadata": {},
   "source": [
    "La fonction `findHomography` d'OpenCV (`import cv2`) permet d'estimer une homographie à partir de correspondances. Tester cette fonction, et vérifier que le résultat obtenu est identique au vôtre. "
   ]
  },
  {
   "cell_type": "code",
   "execution_count": null,
   "id": "9045ff3d",
   "metadata": {},
   "outputs": [],
   "source": []
  }
 ],
 "metadata": {
  "kernelspec": {
   "display_name": "Python 3 (ipykernel)",
   "language": "python",
   "name": "python3"
  },
  "language_info": {
   "codemirror_mode": {
    "name": "ipython",
    "version": 3
   },
   "file_extension": ".py",
   "mimetype": "text/x-python",
   "name": "python",
   "nbconvert_exporter": "python",
   "pygments_lexer": "ipython3",
   "version": "3.12.3"
  }
 },
 "nbformat": 4,
 "nbformat_minor": 5
}
