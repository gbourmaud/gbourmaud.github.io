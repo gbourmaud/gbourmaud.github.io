{
 "cells": [
  {
   "cell_type": "markdown",
   "id": "0f365734",
   "metadata": {},
   "source": [
    "# TP rectification homographique"
   ]
  },
  {
   "cell_type": "markdown",
   "id": "8caf8367",
   "metadata": {},
   "source": [
    "**Guillaume Bourmaud - guillaume.bourmaud@enseirb-matmeca.fr**"
   ]
  },
  {
   "cell_type": "markdown",
   "id": "58d62fa4",
   "metadata": {},
   "source": [
    "L'objectif de ce TP est de mettre en oeuvre la notion d'homographie étudiée en cours.\n",
    "\n",
    "Pour cela, nous allons considérer l'image suivante ([lien de téléchargement](https://gbourmaud.github.io/files/vision/TP/TP_rectification_homographique/image1.jpg)) :  \n",
    "  \n",
    "![alt text](image1.jpg)\n",
    "Cette image correspond à la projection d'une scène planaire (dans notre cas une feuille A4 posée sur le sol) dans le plan image d'une caméra idéale du point de vue du modèle sténopé. Dans cette image, le texte présent sur la feuille A4 est difficilement lisible en raison de la rotation et de la translation de la caméra vis-à-vis de la feuille lors de la prise de vue.  \n",
    "  \n",
    "Nous avons vu que la transformation entre deux images $\\mathbf{I}_A$ et $\\mathbf{I}_B$ issues d'une scène planaire est une homographie $\\mathbf{H}_{AB}$ :  \n",
    "\n",
    "$$\\underline{\\mathbf{p}}_{A,i}=\\pi(\\mathbf{H}_{AB} \\underline{\\mathbf{p}}_{B,i}),$$  \n",
    "  \n",
    "où $\\underline{\\mathbf{p}}_{A,i}$ est un point (en coordonnées homogènes) dans l'image A, $\\underline{\\mathbf{p}}_{B,i}$ est son correspondant dans l'image B et $\\pi(\\cdot)$ est la fonction de projection."
   ]
  },
  {
   "cell_type": "markdown",
   "id": "41f6d057",
   "metadata": {},
   "source": [
    "Ce TP a pour but de mettre en oeuvre une méthode de rectification homographique permettant d'estimer cette matrice d'homographie $\\mathbf{H}_{AB}$. Une fois estimée, cette matrice définit une transformation qui pourra être appliquée à l'image ci-dessus pour obtenir une **image rectifiée** où le texte présent sur la feuille A4 est lisible. \n",
    "  \n",
    "Après rectification homographique, l'image rectifiée doit représenter la feuille A4 de telle sorte que cette dernière soit parfaitement lisible :  \n",
    "  \n",
    "![image rectifiée](image1_rect.jpg)"
   ]
  },
  {
   "cell_type": "markdown",
   "id": "e8a32110",
   "metadata": {},
   "source": [
    "### Correspondances\n",
    "\n",
    "Afin d'estimer l'homographie $\\mathbf{H}_{AB}$, nous avons besoin de 4 correspondances $(\\mathbf{p}_{A,i}, \\mathbf{p}_{B,i})_{i=1...4}$ définies graphiquement ci-après :\n",
    "\n",
    "![schéma](schema.png)\n",
    "\n",
    "L'image B représente une feuille A4 de taille 21cm par 29,7cm. Quelles sont les coordonnées (en cm) des 4 coins $(\\mathbf{p}_{B,i})_{i=1...4}$ ? Dans votre code, choisissez une résolution, par exemple 1 cm = 10 pixels, et créez une variable contenant les coordonnées en pixels :\n",
    "\n"
   ]
  },
  {
   "cell_type": "code",
   "execution_count": null,
   "id": "d18de02f",
   "metadata": {},
   "outputs": [],
   "source": [
    "p_B = np.array([[..., ..., ..., ...],[..., ..., ..., ...]])"
   ]
  },
  {
   "cell_type": "markdown",
   "id": "efc4a229",
   "metadata": {},
   "source": [
    "Concernant l'image A, nous pourrions faire une détection automatique des 4 coins $(\\mathbf{p}_{A,i})_{i=1...4}$ mais ce n'est pas l'objet de ce TP. À la place, vous pouvez simplement récupérer manuellement les coordonnées des 4 coins $(\\mathbf{p}_{A,i})_{i=1...4}$, puis créer dans votre code une variable contenant ces coordonnées :\n",
    "\n"
   ]
  },
  {
   "cell_type": "code",
   "execution_count": null,
   "id": "008735d7",
   "metadata": {},
   "outputs": [],
   "source": [
    "p_A = np.array([[..., ..., ..., ...],[..., ..., ..., ...]])"
   ]
  },
  {
   "cell_type": "markdown",
   "id": "c3cc862e",
   "metadata": {},
   "source": [
    "### Vérification visuelle des 4 correspondances\n",
    "\n",
    "La plupart des bugs proviennent de mauvaises correspondances. Ainsi dans votre code, reproduisez le schéma ci-dessus  (l'image B sera blanche dans votre cas car c'est l'image que vous souhaitez obtenir) pour vous assurer que vos correspondances sont bonnes.\n"
   ]
  },
  {
   "cell_type": "markdown",
   "id": "3fd6cd9a",
   "metadata": {},
   "source": [
    "### Implémentation de la méthode d'estimation (\"DLT\")\n",
    "\n",
    "1. Coder la méthode d'estimation d'homographie vue en cours.  \n",
    "    A.  Construire la matrice $\\mathbf{M}$ de taille $8\\times8$  et le vecteur $\\mathbf{p}_A$ de taille $8\\times1$  \n",
    "    B.  Résoudre numériquement (fonction `np.linalg.solve`) le système linéaire $\\mathbf{M}^T \\mathbf{M}\\mathbf{h}=\\mathbf{M}^T \\mathbf{p}_A$ (voir [Annexe Moindres carrés linéaires](https://gbourmaud.github.io/files/vision/annexes/annexe_LS.pdf))   \n",
    "    C.  Construire la matrice d'homographie $\\mathbf{H}_{AB}$ de taille $3\\times3$ à partir du vecteur $\\mathbf{h}$  \n",
    "    D.  Vérifier que $\\underline{\\mathbf{p}}_{A,i} = \\pi(\\mathbf{H}_{AB}\\underline{\\mathbf{p}}_{B,i})$ $\\forall i\\in [1...4]$ en traçant une croix colorée pour chaque $\\pi(\\mathbf{H}_{AB}\\underline{\\mathbf{p}}_{B,i})$ dans la figure précédente.\n",
    "5. Appliquer l'homographie estimée $\\mathbf{H}_{AB}$ à l'image à rectifier (application d'une transformation à une image).\n",
    "6. Sauvegarder l'image rectifiée. Le document obtenu devrait être parfaitement lisible.\n",
    "\n",
    "**SOLUTION : vous trouverez à la fin de ce fichier le script complet auquel vous pourrez vous référer si vous êtes bloqués.**"
   ]
  },
  {
   "cell_type": "markdown",
   "id": "3d383d40",
   "metadata": {},
   "source": [
    "### Fonction `findHomography` d'OpenCV\n"
   ]
  },
  {
   "cell_type": "markdown",
   "id": "8439fe22",
   "metadata": {},
   "source": [
    "La fonction `findHomography` d'OpenCV (`import cv2`) permet d'estimer une homographie à partir de correspondances. Tester cette fonction, et vérifier que le résultat obtenu est identique au vôtre. "
   ]
  },
  {
   "cell_type": "markdown",
   "id": "7aa22064-eeb1-4cb0-a63e-c8d9662811dc",
   "metadata": {},
   "source": [
    "## CORRECTION SCRIPT COMPLET"
   ]
  },
  {
   "cell_type": "code",
   "execution_count": null,
   "id": "2ea9f407-d05c-4fbf-9f34-ee952fdb41f4",
   "metadata": {},
   "outputs": [],
   "source": [
    "from PIL import Image\n",
    "import numpy as np\n",
    "import matplotlib.pyplot as plt\n",
    "from getInterpolationGrids import getInterpolationGrids\n",
    "from interp2_bilinear import interp2_bilinear\n",
    "import cv2\n",
    "\n",
    "im = np.array(Image.open('./image1.jpg')).astype(float)/255.\n",
    "\n",
    "f1 = plt.figure()\n",
    "ax1 = f1.add_subplot(121)\n",
    "ax1.imshow(im)\n",
    "\n",
    "#coordonnées des coins de la feuille dans l'image\n",
    "#ordre : haut gauche, haut droit, bas droit, bas gauche\n",
    "p_A = np.array([[305.,831.,3671.,4293.],[2238.,244.,211.,2219.]])\n",
    "\n",
    "markersize = 30\n",
    "ax1.scatter(p_A[0,0],p_A[1,0],ec='r', s=markersize, fc='none')\n",
    "ax1.scatter(p_A[0,1],p_A[1,1],ec='g', s=markersize, fc='none')\n",
    "ax1.scatter(p_A[0,2],p_A[1,2],ec='b', s=markersize, fc='none')\n",
    "ax1.scatter(p_A[0,3],p_A[1,3],ec='k', s=markersize, fc='none')\n",
    "\n",
    "ax1.set(\n",
    "       title='Image prise')\n",
    "#coordonnées des coins de la feuille idéale format A4\n",
    "#ordre : haut gauche, haut droit, bas droit, bas gauche\n",
    "scale = 100\n",
    "h_rec = int(29.7*scale)\n",
    "w_rec = int(21.*scale)\n",
    "p_B = np.array([[0., w_rec-1, w_rec-1, 0.],[0., 0., h_rec-1, h_rec-1]])\n",
    "\n",
    "ax2 = f1.add_subplot(122)\n",
    "ax2.scatter(p_B[0,0],p_B[1,0],ec='r', s=markersize, fc='none')\n",
    "ax2.scatter(p_B[0,1],p_B[1,1],ec='g', s=markersize, fc='none')\n",
    "ax2.scatter(p_B[0,2],p_B[1,2],ec='b', s=markersize, fc='none')\n",
    "ax2.scatter(p_B[0,3],p_B[1,3],ec='k', s=markersize, fc='none')\n",
    "\n",
    "ax2.set(\n",
    "       xlim = [0, w_rec-1],\n",
    "       ylim = [0, h_rec-1],\n",
    "       title='Document rectifié')\n",
    "ax2.invert_yaxis()\n",
    "\n",
    "plt.pause(0.1)\n",
    "\n",
    "def DLT(p_A, p_B):\n",
    "    p_A_vec = p_A.ravel(order='F')\n",
    "    M = np.zeros((8,8))\n",
    "    \n",
    "    for i in range(4):\n",
    "        pBx = p_B[0,i]\n",
    "        pBy = p_B[1,i]\n",
    "        pAx = p_A[0,i]\n",
    "        pAy = p_A[1,i]\n",
    "        \n",
    "        M_line_1 = [pBx, 0, -pBx*pAx, pBy, 0, -pBy*pAx, 1, 0]\n",
    "        M_line_2 = [0, pBx, -pBx*pAy, 0, pBy, -pBy*pAy, 0, 1]\n",
    "        \n",
    "        M[i*2:(i+1)*2,:] = np.array([M_line_1, M_line_2])\n",
    "    \n",
    "    \n",
    "    \n",
    "    h = np.linalg.solve(M.T.dot(M), M.T.dot(p_A_vec))\n",
    "    \n",
    "    H_AB = np.array([[h[0], h[3], h[6]], [h[1], h[4], h[7]], [h[2], h[5], 1]])\n",
    "    return H_AB\n",
    "\n",
    "H_AB = DLT(p_A, p_B)\n",
    "\n",
    "temp = H_AB.dot(np.vstack([p_B, np.ones((1,4))]))\n",
    "p_A_pred_x = temp[0,:]/temp[2,:]\n",
    "p_A_pred_y = temp[1,:]/temp[2,:]\n",
    "\n",
    "ax1.scatter(p_A_pred_x[0],p_A_pred_y[0],fc='r', s=markersize, marker='x')\n",
    "ax1.scatter(p_A_pred_x[1],p_A_pred_y[1],fc='g', s=markersize, marker='x')\n",
    "ax1.scatter(p_A_pred_x[2],p_A_pred_y[2],fc='b', s=markersize, marker='x')\n",
    "ax1.scatter(p_A_pred_x[3],p_A_pred_y[3],fc='k', s=markersize, marker='x')\n",
    "\n",
    "#%% Apply transformation\n",
    "\n",
    "XI,YI = getInterpolationGrids(H_AB, h_rec, w_rec)\n",
    "\n",
    "\n",
    "I_undist,_ = interp2_bilinear(im, XI, YI)\n",
    "ax2.imshow(I_undist)\n",
    "plt.pause(0.1)\n",
    "\n",
    "Image.fromarray((I_undist*255).astype(np.uint8)).save(\"im_rect.pdf\")\n",
    "\n",
    "#%% Comparison opencv\n",
    "\n",
    "H_AB_cv2, mask = cv2.findHomography(p_B.astype(np.float32).T, p_A.astype(np.float32).T)\n",
    "print(np.abs(H_AB-H_AB_cv2).sum())\n"
   ]
  }
 ],
 "metadata": {
  "kernelspec": {
   "display_name": "Python 3 (ipykernel)",
   "language": "python",
   "name": "python3"
  },
  "language_info": {
   "codemirror_mode": {
    "name": "ipython",
    "version": 3
   },
   "file_extension": ".py",
   "mimetype": "text/x-python",
   "name": "python",
   "nbconvert_exporter": "python",
   "pygments_lexer": "ipython3",
   "version": "3.10.14"
  }
 },
 "nbformat": 4,
 "nbformat_minor": 5
}
