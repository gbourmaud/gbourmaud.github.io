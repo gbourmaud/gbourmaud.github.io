{
 "cells": [
  {
   "cell_type": "markdown",
   "id": "0f365734",
   "metadata": {},
   "source": [
    "# TP - Correction de la distorsion"
   ]
  },
  {
   "cell_type": "markdown",
   "id": "8caf8367",
   "metadata": {},
   "source": [
    "**Guillaume Bourmaud - guillaume.bourmaud@enseirb-matmeca.fr**"
   ]
  },
  {
   "cell_type": "markdown",
   "id": "a3fdeedc",
   "metadata": {},
   "source": [
    "## Utilisation IDE Spyder sur un ordinateur de l'Enseirb\n",
    "1. Lancer une session linux (et non pas windows)\n",
    "2. Aller dans \"Applications\", puis \"Autre\", puis \"conda_pytorch\" (un terminal devrait s'ouvrir)\n",
    "3. Dans ce terminal, taper la commande suivante pour lancer Spyder :  \n",
    "`spyder &`  \n",
    "4. Configurer Spyder en suivant ces instructions [Lien configuration Spyder](https://gbourmaud.github.io/files/configuration_spyder_annotated.pdf).\n",
    "***"
   ]
  },
  {
   "cell_type": "markdown",
   "id": "58d62fa4",
   "metadata": {},
   "source": [
    "L'objectif de ce TP est de corriger la distorsion, vis-à-vis du modèle sténopé, d'une image prise par une caméra. L'image corrigée sera alors considérée idéale du point de vue du modèle sténopé. Ce TP peut donc être vu comme une simple application d'une transformation à une image. La technique permettant d'appliquer une transformation à une image vous est rappelée dans ce document [transformation_image.pdf](https://gbourmaud.github.io/files/vision/TP/Tutoriel_transformation_image/transformation_image.pdf). Un tutoriel python est disponible ici : [tutoriel_rotation_image.ipynb](https://github.com/gbourmaud/gbourmaud.github.io/blob/master/files/vision/TP/Tutoriel_transformation_image/tutoriel_rotation_image.ipynb)"
   ]
  },
  {
   "cell_type": "markdown",
   "id": "76e4410b",
   "metadata": {},
   "source": [
    "\n",
    "Dans ce TP, nous allons corriger l'image suivante :  \n",
    "  \n",
    "![alt text](videoframe-3.bmp)"
   ]
  },
  {
   "cell_type": "markdown",
   "id": "e8a32110",
   "metadata": {},
   "source": [
    "L'image distordue $\\mathbf{I}_{\\text{real}}$ (ci-dessus) n'est pas idéale du point de vue du modèle sténopé. On remarque par exemple que les lignes droites en 3D (comme le bord de la porte, le bord de l'écran, ou encore le bord du tableau) ne sont pas droites dans l'image.  \n",
    "  \n",
    "Nous considérons, dans ce TP, le cas où la caméra ayant capturé $\\mathbf{I}_{\\text{real}}$, a été calibrée. Ainsi un modèle de distorsion est connu :  \n",
    "  \n",
    "$$\\underline{\\mathbf{m}}_{\\text{real}} = d(\\underline{\\mathbf{m}}_{\\text{ideal}},\\mathbf{k})$$  \n",
    "  \n",
    "  \n",
    "où $d(\\cdot)$ est une fonction de distorsion et $\\mathbf{k}$ est un vecteur de paramètres. Dans le cas de notre caméra, le code de la fonction de distorsion est donné ci-après."
   ]
  },
  {
   "cell_type": "code",
   "execution_count": 4,
   "id": "e1c0f374",
   "metadata": {},
   "outputs": [],
   "source": [
    "def distortion(m_focal_ideal, k):\n",
    "    #inputs : m_focal_ideal (homogeneous point coordinates in ideal focal plane,  H x W x 3 matrix), k (model parameters)\n",
    "    #outputs : m_focal_real (homogeneous point coordinates in distorted focal plane,  H x W x 3 matrix)\n",
    "\n",
    "    kc = k[0]\n",
    "    xi = k[1]\n",
    "\n",
    "    X = (1/(m_focal_ideal[:,:,2:3]+xi*np.sqrt(m_focal_ideal[:,:,0:1]**2+m_focal_ideal[:,:,1:2]**2+m_focal_ideal[:,:,2:3]**2)))*m_focal_ideal[:,:,0:2]#space to nplane\n",
    "\n",
    "    k1 = kc[0]\n",
    "    k2 = kc[1]\n",
    "    k3 = kc[2]\n",
    "    k4 = kc[3]\n",
    "    k5 = kc[4]    \n",
    "    \n",
    "    m_focal_real = np.zeros_like(m_focal_ideal)\n",
    " \n",
    "    x=X[:,:,0]\n",
    "    y=X[:,:,1]\n",
    "    r2=x**2+y**2\n",
    "    radDist = 1. + k1*r2 + k2*(r2**2) + k5*(r2**3)\n",
    "    m_focal_real[:,:,0] = x*radDist + 2*k3*x*y + k4*(r2+2*(x**2))\n",
    "    m_focal_real[:,:,1] = y*radDist + k3*(r2+2*(y**2)) + 2*k4*x*y;\n",
    "    m_focal_real[:,:,2] = 1.\n",
    "    \n",
    "    return m_focal_real"
   ]
  },
  {
   "cell_type": "markdown",
   "id": "d6579efc",
   "metadata": {},
   "source": [
    "Pour notre caméra, le vecteur de paramètres $\\mathbf{k}$ contient 6 valeurs que nous découperons en un vecteur de 5 valeurs et un scalaire."
   ]
  },
  {
   "cell_type": "code",
   "execution_count": null,
   "id": "ccdf81d3",
   "metadata": {},
   "outputs": [],
   "source": [
    "#%% Camera calibration parameters\n",
    "k = []\n",
    "k.append(np.array([-0.616031774058559, 0.236026168622863, -0.0109419992705452, -0.00217955565809950, 0]))\n",
    "k.append(1.745612606223418)"
   ]
  },
  {
   "cell_type": "markdown",
   "id": "c79a829a",
   "metadata": {},
   "source": [
    "La matrice de calibration linéaire $\\mathbf{K}_{\\text{real}}$ est également fournie :"
   ]
  },
  {
   "cell_type": "code",
   "execution_count": null,
   "id": "b5b37646",
   "metadata": {},
   "outputs": [],
   "source": [
    "K_real = np.array([[1.825099190841841e+03, 0., 6.486113006422010e+02],[0., 1.817526262377727e+03, 4.911359689139596e+02],[0., 0., 1.]])"
   ]
  },
  {
   "cell_type": "markdown",
   "id": "7b61f55b",
   "metadata": {},
   "source": [
    "Par conséquent, un point $\\underline{\\mathbf{m}}_{\\text{ideal}}$ du plan focal idéal peut être transformé en un point du plan image réel de la manière suivante :  \n",
    "\n",
    "$$ \\underline{\\mathbf{p}}_{\\text{real}}=\\mathbf{K}_{\\text{real}}d(\\underline{\\mathbf{m}}_{\\text{ideal}},\\mathbf{k})$$  \n"
   ]
  },
  {
   "cell_type": "markdown",
   "id": "bfd31173",
   "metadata": {},
   "source": [
    "Afin d'avoir une transformation entre le plan image idéal et le plan image réel, il nous faut choisir la taille de l'image souhaitée ainsi qu'une matrice de calibration $\\mathbf{K}_{\\text{ideal}}$. On pourra commencer par utiliser les paramètres suivants :"
   ]
  },
  {
   "cell_type": "code",
   "execution_count": null,
   "id": "ac878484",
   "metadata": {},
   "outputs": [],
   "source": [
    "#%% Ideal parameters\n",
    "K_ideal = np.array([[480, 0, 825],[0, 480, 460], [0, 0, 1]])\n",
    "h_ideal = 900\n",
    "w_ideal = 1600"
   ]
  },
  {
   "cell_type": "markdown",
   "id": "32b3b298",
   "metadata": {},
   "source": [
    "Nous disposons alors d'une transformation entre le plan image idéal et le plan image réel :  \n",
    "\n",
    "$$ \\underline{\\mathbf{p}}_{\\text{real}}=\\mathbf{K}_{\\text{real}}d(\\mathbf{K}_{\\text{ideal}}^{-1}\\underline{\\mathbf{p}}_{\\text{ideal}},\\mathbf{k})$$  \n",
    "\n",
    "Afin d'effectuer la correction de la distorsion, il suffit donc d'appliquer la transformation ci-dessus à $\\mathbf{I}_{\\text{real}}$ pour obtenir l'image corrigée $\\mathbf{I}_{\\text{ideal}}$."
   ]
  },
  {
   "cell_type": "code",
   "execution_count": 2,
   "id": "d2ee0e76",
   "metadata": {},
   "outputs": [
    {
     "ename": "SyntaxError",
     "evalue": "invalid syntax (1874341015.py, line 1)",
     "output_type": "error",
     "traceback": [
      "\u001b[0;36m  Cell \u001b[0;32mIn[2], line 1\u001b[0;36m\u001b[0m\n\u001b[0;31m    faire varier les paramètres pour faire apparaître les zones noires\u001b[0m\n\u001b[0m          ^\u001b[0m\n\u001b[0;31mSyntaxError\u001b[0m\u001b[0;31m:\u001b[0m invalid syntax\n"
     ]
    }
   ],
   "source": [
    "mettre image résultat\n",
    "faire varier les paramètres pour faire apparaître les zones noires\n",
    "calculer le champ de vision de la caméra angel horizontal et angle vertical(un peu de trigo)\n",
    "faire notebook pour la tuto rotation"
   ]
  },
  {
   "cell_type": "code",
   "execution_count": null,
   "id": "aa6d337e",
   "metadata": {},
   "outputs": [],
   "source": []
  }
 ],
 "metadata": {
  "kernelspec": {
   "display_name": "Python 3 (ipykernel)",
   "language": "python",
   "name": "python3"
  },
  "language_info": {
   "codemirror_mode": {
    "name": "ipython",
    "version": 3
   },
   "file_extension": ".py",
   "mimetype": "text/x-python",
   "name": "python",
   "nbconvert_exporter": "python",
   "pygments_lexer": "ipython3",
   "version": "3.12.3"
  }
 },
 "nbformat": 4,
 "nbformat_minor": 5
}
