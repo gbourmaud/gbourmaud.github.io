{
 "cells": [
  {
   "cell_type": "markdown",
   "id": "0f365734",
   "metadata": {},
   "source": [
    "# TP - Correction de la distorsion"
   ]
  },
  {
   "cell_type": "markdown",
   "id": "8caf8367",
   "metadata": {},
   "source": [
    "**Guillaume Bourmaud - guillaume.bourmaud@enseirb-matmeca.fr**"
   ]
  },
  {
   "cell_type": "markdown",
   "id": "a83981f8",
   "metadata": {},
   "source": [
    "## Utilisation IDE Spyder sur un ordinateur de l'Enseirb\n",
    "1. Lancer une session linux (et non pas windows)\n",
    "2. Aller dans \"Applications\", puis \"Autre\", puis \"conda_pytorch\" (un terminal devrait s'ouvrir)\n",
    "3. Dans ce terminal, taper la commande suivante pour lancer Spyder :  \n",
    "`spyder &`  \n",
    "4. Configurer Spyder en suivant ces instructions [Lien configuration Spyder](https://gbourmaud.github.io/files/configuration_spyder_annotated.pdf).\n",
    "***"
   ]
  },
  {
   "cell_type": "markdown",
   "id": "58d62fa4",
   "metadata": {},
   "source": [
    "L'objectif de ce TP est de corriger la distorsion, vis-à-vis du modèle sténopé, d'une image prise par une caméra. L'image corrigée sera alors considérée idéale du point de vue du modèle sténopé. **Ce TP peut donc être vu comme une simple application d'une transformation à une image.**  \n",
    "\n",
    "La technique permettant d'appliquer une transformation à une image vous est rappelée dans ce document [transformation_image.pdf](https://gbourmaud.github.io/files/vision/TP/Tutoriel_transformation_image/transformation_image.pdf). Un tutoriel python est disponible ici : [tutoriel_rotation_image.ipynb](https://github.com/gbourmaud/gbourmaud.github.io/blob/master/files/vision/TP/Tutoriel_transformation_image/tutoriel_rotation_image.ipynb)"
   ]
  },
  {
   "cell_type": "markdown",
   "id": "020d61b5",
   "metadata": {},
   "source": [
    "## Quelle transformation appliquer pour corriger la distorsion ?  \n",
    "  \n",
    "  \n",
    "Dans ce TP, nous allons corriger l'[image suivante](https://gbourmaud.github.io/files/vision/TP/TP_undistortion/videoframe-3.bmp) $\\mathbf{I}_{\\text{real}}$ issue d'une caméra de type GoPro:  \n",
    "  \n",
    "![alt text](videoframe-3.bmp)"
   ]
  },
  {
   "cell_type": "markdown",
   "id": "e8a32110",
   "metadata": {},
   "source": [
    "L'image distordue $\\mathbf{I}_{\\text{real}}$ (ci-dessus) n'est pas idéale du point de vue du modèle sténopé. On remarque par exemple que les lignes droites en 3D (comme le bord de la porte, le bord de l'écran, ou encore le bord du tableau) ne sont pas droites dans l'image.  \n",
    "  \n",
    "Nous considérons, dans ce TP, le cas où la caméra ayant capturé $\\mathbf{I}_{\\text{real}}$, a été calibrée. Ainsi un modèle de distorsion de la forme suivante est fourni :  \n",
    "  \n",
    "$$\\underline{\\mathbf{m}}_{\\text{real}} = d(\\underline{\\mathbf{m}}_{\\text{ideal}},\\mathbf{k})$$  \n",
    "  \n",
    "  \n",
    "où $d(\\cdot)$ est une fonction de distorsion, $\\mathbf{k}$ est un vecteur de paramètres, $\\underline{\\mathbf{m}}_{\\text{ideal}}$ est un point 2D en coordonnées homogènes du plan focal normalisé idéal et $\\underline{\\mathbf{m}}_{\\text{real}}$ est un point 2D en coordonnées homogènes du plan focal normalisé réel. Dans le cas de notre caméra, le code de la fonction de distorsion est donné ci-après."
   ]
  },
  {
   "cell_type": "code",
   "execution_count": 4,
   "id": "53dde10d",
   "metadata": {},
   "outputs": [],
   "source": [
    "def distortion(m_focal_ideal, k):\n",
    "    #inputs : m_focal_ideal (homogeneous point coordinates in ideal focal plane,  H x W x 3 matrix), k (model parameters)\n",
    "    #outputs : m_focal_real (homogeneous point coordinates in distorted focal plane,  H x W x 3 matrix)\n",
    "\n",
    "    kc = k[0]\n",
    "    xi = k[1]\n",
    "\n",
    "    X = (1/(m_focal_ideal[:,:,2:3]+xi*np.sqrt(m_focal_ideal[:,:,0:1]**2+m_focal_ideal[:,:,1:2]**2+m_focal_ideal[:,:,2:3]**2)))*m_focal_ideal[:,:,0:2]#space to nplane\n",
    "\n",
    "    k1 = kc[0]\n",
    "    k2 = kc[1]\n",
    "    k3 = kc[2]\n",
    "    k4 = kc[3]\n",
    "    k5 = kc[4]    \n",
    "    \n",
    "    m_focal_real = np.zeros_like(m_focal_ideal)\n",
    " \n",
    "    x=X[:,:,0]\n",
    "    y=X[:,:,1]\n",
    "    r2=x**2+y**2\n",
    "    radDist = 1. + k1*r2 + k2*(r2**2) + k5*(r2**3)\n",
    "    m_focal_real[:,:,0] = x*radDist + 2*k3*x*y + k4*(r2+2*(x**2))\n",
    "    m_focal_real[:,:,1] = y*radDist + k3*(r2+2*(y**2)) + 2*k4*x*y;\n",
    "    m_focal_real[:,:,2] = 1.\n",
    "    \n",
    "    return m_focal_real"
   ]
  },
  {
   "cell_type": "markdown",
   "id": "2ad11d5a",
   "metadata": {},
   "source": [
    "Pour notre caméra, le vecteur de paramètres $\\mathbf{k}$ contient 6 valeurs que nous découperons en un vecteur de 5 valeurs et un scalaire."
   ]
  },
  {
   "cell_type": "code",
   "execution_count": null,
   "id": "90bf558d",
   "metadata": {},
   "outputs": [],
   "source": [
    "#%% Camera calibration parameters\n",
    "k = []\n",
    "k.append(np.array([-0.616031774058559, 0.236026168622863, -0.0109419992705452, -0.00217955565809950, 0]))\n",
    "k.append(1.745612606223418)"
   ]
  },
  {
   "cell_type": "markdown",
   "id": "f1a23687",
   "metadata": {},
   "source": [
    "La matrice de calibration linéaire $\\mathbf{K}_{\\text{real}}$ est également fournie :"
   ]
  },
  {
   "cell_type": "code",
   "execution_count": null,
   "id": "0a8ac4fa",
   "metadata": {},
   "outputs": [],
   "source": [
    "K_real = np.array([[1.825099190841841e+03, 0., 6.486113006422010e+02],[0., 1.817526262377727e+03, 4.911359689139596e+02],[0., 0., 1.]])"
   ]
  },
  {
   "cell_type": "markdown",
   "id": "40956718",
   "metadata": {},
   "source": [
    "Par conséquent, un point $\\underline{\\mathbf{m}}_{\\text{ideal}}$ du plan focal idéal peut être transformé en un point du plan image réel de la manière suivante :  \n",
    "\n",
    "$$ \\underline{\\mathbf{p}}_{\\text{real}}=\\mathbf{K}_{\\text{real}}d(\\underline{\\mathbf{m}}_{\\text{ideal}},\\mathbf{k})$$  \n"
   ]
  },
  {
   "cell_type": "markdown",
   "id": "354e939e",
   "metadata": {},
   "source": [
    "Afin d'avoir une transformation entre le plan image idéal et le plan image réel, il nous faut choisir la taille de l'image souhaitée ainsi qu'une matrice de calibration $\\mathbf{K}_{\\text{ideal}}$. On pourra commencer par utiliser les paramètres suivants :"
   ]
  },
  {
   "cell_type": "code",
   "execution_count": null,
   "id": "929270a0",
   "metadata": {},
   "outputs": [],
   "source": [
    "#%% Ideal parameters\n",
    "K_ideal = np.array([[480, 0, 825],[0, 480, 460], [0, 0, 1]])\n",
    "h_ideal = 900\n",
    "w_ideal = 1600"
   ]
  },
  {
   "cell_type": "markdown",
   "id": "a795dc2c",
   "metadata": {},
   "source": [
    "Nous disposons alors d'une transformation entre le plan image idéal et le plan image réel :  \n",
    "\n",
    "$$ \\underline{\\mathbf{p}}_{\\text{real}}=\\mathbf{K}_{\\text{real}}d(\\mathbf{K}_{\\text{ideal}}^{-1}\\underline{\\mathbf{p}}_{\\text{ideal}},\\mathbf{k})$$  \n",
    "\n",
    "**Afin d'effectuer la correction de la distorsion, il suffit donc d'appliquer la transformation ci-dessus à $\\mathbf{I}_{\\text{real}}$ pour obtenir l'image corrigée $\\mathbf{I}_{\\text{ideal}}$.** Pour ce faire, il est recommandé de partir du code de ce tutoriel [tutoriel_rotation_image.ipynb](https://github.com/gbourmaud/gbourmaud.github.io/blob/master/files/vision/TP/Tutoriel_transformation_image/tutoriel_rotation_image.ipynb) et de le modifier. Il faudra notamment modifier la fonction `getInterpolationGrids` pour que la transformation ci-dessus soit appliquée, au lieu d'un rotation comme c'est le cas dans le tutoriel. Vous devriez alors obtenir le résultat suivant   \n",
    "![alt text](im_undist.bmp)"
   ]
  },
  {
   "cell_type": "markdown",
   "id": "80275733",
   "metadata": {},
   "source": [
    "Remarquons que les lignes droites en 3D (bord de la porte, ligne au plafond, etc.) sont désormais également droites dans l'image corrigée. Remarquons également que l'image corrigée a perdu de l'information au niveau des bords. Ceci est dû au choix des paramètres de $\\mathbf{K}_{\\text{ideal}}$, en particulier la distance focale. Vous pouvez modifier ces paramètres et observer leur impact sur l'image corrigée. Par exemple, diviser par deux la distance focale revient à dézoomer sur le plan focal normalisé idéal. On obtient alors plus d'information (mais des zones noires apparaissent si l'information n'est pas présente dans l'image d'origine) :  \n",
    "![alt text](im_undist_small_focal.bmp)"
   ]
  },
  {
   "cell_type": "markdown",
   "id": "d10960d9",
   "metadata": {},
   "source": [
    "## Fonction `remap` d'OpenCV\n",
    "\n",
    "La fonction [`remap`](https://docs.opencv.org/3.4/d1/da0/tutorial_remap.html) de la bibliothèque OpenCV (`import cv2`) est une fonction d'interpolation 2D très efficace. Cette fonction peut être utilisée pour remplacer la fonction `interp2_bilinear` (disponible dans le code du tutoriel sur la [transformation d'image](https://github.com/gbourmaud/gbourmaud.github.io/blob/master/files/vision/TP/Tutoriel_transformation_image/tutoriel_rotation_image.ipynb)). Tester cette fonction (attention il faudra probalement transformer vos variables, qui sont en float 64, en float 32 de la manière suivante : `.astype(np.float32)`). Vous devriez constater que `remap` est beaucoup plus rapide que la fonction `interp2_bilinear`. En revanche, en comparant les deux images corrigées, vous devriez constater que `remap` introduit de légers artefacts aux endroits où il y a un fort contraste."
   ]
  },
  {
   "cell_type": "markdown",
   "id": "f9fb40a2",
   "metadata": {},
   "source": [
    "### (Optionnel) Calcul du champ de vision"
   ]
  },
  {
   "cell_type": "markdown",
   "id": "f96e9be8",
   "metadata": {},
   "source": [
    "Trouver une manière de calculer de champ de vision (angle $\\theta_x$ horizontal et angle $\\theta_y$ vertical) de l'image corrigée. Indice pour calculer $\\theta_x$ : faire un schéma représentant le repère de la caméra vu de dessus (on a donc deux axes : $x$ et $z$), le plan focal normalisé (sous la forme d'une ligne car il est vu de dessus), les bords gauche et droit de l'image dans le plan focal normalisé et $\\theta_x$. Le calcul de $\\theta_x$ fait intervenir la fonction `arc tangente`. "
   ]
  },
  {
   "cell_type": "code",
   "execution_count": null,
   "id": "a5e5b2f0",
   "metadata": {},
   "outputs": [],
   "source": []
  }
 ],
 "metadata": {
  "kernelspec": {
   "display_name": "Python 3 (ipykernel)",
   "language": "python",
   "name": "python3"
  },
  "language_info": {
   "codemirror_mode": {
    "name": "ipython",
    "version": 3
   },
   "file_extension": ".py",
   "mimetype": "text/x-python",
   "name": "python",
   "nbconvert_exporter": "python",
   "pygments_lexer": "ipython3",
   "version": "3.12.3"
  }
 },
 "nbformat": 4,
 "nbformat_minor": 5
}
