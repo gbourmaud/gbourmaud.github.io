{
 "cells": [
  {
   "cell_type": "markdown",
   "metadata": {},
   "source": [
    "# TP RANSAC, homographie et mosaïque d'images aériennes"
   ]
  },
  {
   "cell_type": "markdown",
   "metadata": {},
   "source": [
    "Guillaume Bourmaud"
   ]
  },
  {
   "cell_type": "markdown",
   "metadata": {},
   "source": [
    "L'objectif de ce TP est de construire une mosaïque d'images aériennes. L'archive du TP est disponible [ici](https://github.com/gbourmaud/gbourmaud.github.io/blob/master/files/vision/TP/TP_mosaique_aerienne/version_squelette.zip)."
   ]
  },
  {
   "cell_type": "markdown",
   "metadata": {},
   "source": [
    "## Mosaïque de deux images"
   ]
  },
  {
   "cell_type": "markdown",
   "metadata": {},
   "source": [
    "Débutons par le cas d'une mosaïque de deux images. Effectuer/Coder les étapes suivantes :\n",
    "1. Placez vous dans le répertoire `version_squelette` et créez un script `main_mos2.m` en débutant par `clear; close all; clc; path(pathdef); addpath(genpath('.'));`\n",
    "1. Charger les images `I0.jpg` et `I2.jpg` (`im1=double(imread('./data/I0.jpg'))/255;`)\n",
    "1. Détecter et décrire des points d'intérêt SIFT dans chacune des deux images (fonction `vl_sift`). Attention une image en entrée de la fonction doit être en niveaux de gris (fonction `rgb2gray`) et codée sur 32 bits (fonction `single`). Les fonctions `vl_plotframe` et `vl_plotsiftdescriptor` permettent d'afficher des informations relatives aux points détectés.\n",
    "1. Produire des appariements (fonction `vl_ubcmatch`). La fonction `plotmatches` permet d'afficher les appariements.\n",
    "1. Estimer la matrice d'homographie en codant un RANSAC.\n",
    "1. Raffiner l'estimation de l'homographie en utilisant tous les appariements jugés corrects à l'issue du RANSAC.\n",
    "1. Utiliser l'homographie pour créer une mosaïque de deux images\n",
    "\n",
    "![im](result_mosaique_two_images.png)\n",
    "\n",
    "\n",
    "\n"
   ]
  },
  {
   "cell_type": "markdown",
   "metadata": {},
   "source": [
    "## Mosaïque de dix images"
   ]
  },
  {
   "cell_type": "markdown",
   "metadata": {},
   "source": [
    "Généraliser le code ayant permis d'obtenir une mosaïque de deux images afin d'obtenir une mosaïque de dix images.\n",
    "\n",
    "![im](result_mosaique_all_images.png)\n"
   ]
  },
  {
   "cell_type": "code",
   "execution_count": null,
   "metadata": {},
   "outputs": [],
   "source": []
  }
 ],
 "metadata": {
  "kernelspec": {
   "display_name": "Python 3 (ipykernel)",
   "language": "python",
   "name": "python3"
  },
  "language_info": {
   "codemirror_mode": {
    "name": "ipython",
    "version": 3
   },
   "file_extension": ".py",
   "mimetype": "text/x-python",
   "name": "python",
   "nbconvert_exporter": "python",
   "pygments_lexer": "ipython3",
   "version": "3.10.11"
  }
 },
 "nbformat": 4,
 "nbformat_minor": 4
}
