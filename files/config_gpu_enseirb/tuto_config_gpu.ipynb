{
 "cells": [
  {
   "cell_type": "markdown",
   "id": "a6e93d9b",
   "metadata": {},
   "source": [
    "# Utilisation du GPU sur un ordinateur de l'Enseirb"
   ]
  },
  {
   "cell_type": "markdown",
   "id": "6187e23d",
   "metadata": {},
   "source": [
    "## 1) Vérifier qu'un GPU est présent et configuré"
   ]
  },
  {
   "cell_type": "markdown",
   "id": "a4ba33ce",
   "metadata": {},
   "source": [
    "Dans un terminal, entrer la commande `nvidia-smi`  \n",
    "Si vous obtenez quelque chose de similaire au résultat suivant, alors vous avez bien un GPU disponible en local sur votre ordinateur."
   ]
  },
  {
   "cell_type": "markdown",
   "id": "7d749ce2",
   "metadata": {},
   "source": [
    "![Sortie nvidia-smi](nvidia-smi.png)"
   ]
  },
  {
   "cell_type": "markdown",
   "id": "f00f2bda",
   "metadata": {},
   "source": [
    "## 2) Configurer l'environnement Python/PyTorch"
   ]
  },
  {
   "cell_type": "markdown",
   "id": "57dbd193",
   "metadata": {},
   "source": [
    "Afin de pouvoir optimiser les paramètres d'un réseau de neurones avec ce GPU, il faut disposer d'un environnement Python où PyTorch est installé. Un tel environnement est disponible à l'adresse : `/net/npers/gbourmaud/pytorch_env/bin/python`"
   ]
  },
  {
   "cell_type": "markdown",
   "id": "f5e437df",
   "metadata": {},
   "source": [
    "Afin de pouvoir accéder à cet environnement, il est conseillé d'utiliser VSCode.  \n",
    "Ouvrir VSCode depuis un terminal : `code &`"
   ]
  },
  {
   "cell_type": "markdown",
   "id": "c8b543d2",
   "metadata": {},
   "source": [
    "Pour que VSCode utilise le bon environnement python, il faut faire Ctrl+Shift+P et taper \"Python: Select Interpreter\" et finalement écrire l'adresse `/net/npers/gbourmaud/pytorch_env/bin/python`"
   ]
  },
  {
   "cell_type": "markdown",
   "id": "3b3ddd7e",
   "metadata": {},
   "source": [
    "Vous pouvez tester votre configuration avec le code suivant. Vous devriez constater que le calcul sur GPU est plus rapide que celui sur CPU."
   ]
  },
  {
   "cell_type": "code",
   "execution_count": null,
   "id": "9f4efbec",
   "metadata": {},
   "outputs": [],
   "source": [
    "import torch\n",
    "import time\n",
    "\n",
    "def main():\n",
    "\n",
    "    print(\"PyTorch version:\", torch.__version__)\n",
    "    gpu_available = torch.cuda.is_available()\n",
    "    print(\"Is CUDA (GPU) available?\", gpu_available)\n",
    "\n",
    "    if gpu_available:\n",
    "        print(\"GPU Name:\", torch.cuda.get_device_name(0))\n",
    "        print(\"CUDA Device Count:\", torch.cuda.device_count())\n",
    "\n",
    "    size = 3000  # Increase for more dramatic differences\n",
    "    print(f\"Matrix size: {size}x{size}\")\n",
    "\n",
    "    #GPU benchmark\n",
    "    device = torch.device('cuda')\n",
    "\n",
    "    a = torch.rand(size, size, device=device) #warmup\n",
    "    b = torch.rand(size, size, device=device) #warmup\n",
    "    _ = torch.mm(a, b) #warmup\n",
    "\n",
    "    start = time.time()\n",
    "    c= []\n",
    "    for _ in range(10):\n",
    "        a = torch.rand(size, size, device=device)\n",
    "        b = torch.rand(size, size, device=device)\n",
    "        c.append(torch.mm(a, b))\n",
    "\n",
    "    t_GPU = time.time() - start\n",
    "    print(f\"GPU time: {t_GPU:.4f} seconds\")\n",
    "\n",
    "    #CPU benchmark\n",
    "    device = torch.device('cpu')\n",
    "\n",
    "    a = torch.rand(size, size, device=device) #warmup\n",
    "    b = torch.rand(size, size, device=device) #warmup\n",
    "    _ = torch.mm(a, b) #warmup\n",
    "\n",
    "    start = time.time()\n",
    "    c= []\n",
    "    for _ in range(10):\n",
    "        a = torch.rand(size, size, device=device)\n",
    "        b = torch.rand(size, size, device=device)\n",
    "        c.append(torch.mm(a, b))\n",
    "    t_CPU = time.time() - start\n",
    "    print(f\"CPU time: {t_CPU:.4f} seconds\")\n",
    "\n",
    "    speedup = t_CPU / t_GPU\n",
    "    print(f\"Speedup (CPU / GPU): {speedup:.2f}x\")\n",
    "\n",
    "if __name__ == \"__main__\":\n",
    "    main()"
   ]
  },
  {
   "cell_type": "code",
   "execution_count": null,
   "id": "757e851e",
   "metadata": {},
   "outputs": [],
   "source": []
  }
 ],
 "metadata": {
  "kernelspec": {
   "display_name": "mainEnv",
   "language": "python",
   "name": "python3"
  },
  "language_info": {
   "name": "python",
   "version": "3.12.3"
  }
 },
 "nbformat": 4,
 "nbformat_minor": 5
}
